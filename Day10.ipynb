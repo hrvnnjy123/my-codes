{
 "cells": [
  {
   "cell_type": "code",
   "execution_count": 1,
   "id": "380044e3-c5ad-404c-965b-639170747677",
   "metadata": {},
   "outputs": [
    {
     "name": "stdout",
     "output_type": "stream",
     "text": [
      "1\n",
      "2\n",
      "3\n",
      "4\n",
      "5\n",
      "6\n"
     ]
    }
   ],
   "source": [
    "x=[1,2,3,4,5,6]\n",
    "for f in x:\n",
    "    print(f)"
   ]
  },
  {
   "cell_type": "code",
   "execution_count": 2,
   "id": "101ae79f-4a7e-443b-8aea-7d7d9d4280f4",
   "metadata": {},
   "outputs": [
    {
     "name": "stdout",
     "output_type": "stream",
     "text": [
      "Colin\n",
      "Richard\n",
      "Aaron\n",
      "Burhaan\n",
      "George\n"
     ]
    }
   ],
   "source": [
    "x=[\"Colin\",\"Richard\",\"Aaron\",\"Burhaan\",\"George\"]\n",
    "for f in x:\n",
    "    print(f)"
   ]
  },
  {
   "cell_type": "code",
   "execution_count": 3,
   "id": "93f18fe2-7411-45d8-adcf-5516622d406d",
   "metadata": {},
   "outputs": [
    {
     "name": "stdout",
     "output_type": "stream",
     "text": [
      "589\n"
     ]
    }
   ],
   "source": [
    "total=0\n",
    "z=[100,79,69,45,63,76,30,2,48,77]\n",
    "for f in z:\n",
    "    total=total+f\n",
    "print(total)"
   ]
  },
  {
   "cell_type": "code",
   "execution_count": 4,
   "id": "857dd4bf-4b61-4cbd-b7f0-ded482c5bf25",
   "metadata": {},
   "outputs": [
    {
     "name": "stdout",
     "output_type": "stream",
     "text": [
      "233694720\n"
     ]
    }
   ],
   "source": [
    "total=1\n",
    "z=[45,98,69,96,8]\n",
    "for b in z:\n",
    "    total=total*b\n",
    "print(total)"
   ]
  },
  {
   "cell_type": "code",
   "execution_count": 5,
   "id": "dcdeb353-6439-41a1-955b-bb0a76aeca6f",
   "metadata": {},
   "outputs": [
    {
     "name": "stdout",
     "output_type": "stream",
     "text": [
      "None\n"
     ]
    }
   ],
   "source": [
    "x=[65,87,98,45,77,99,1,34,67,50]\n",
    "print(x.sort())"
   ]
  },
  {
   "cell_type": "code",
   "execution_count": 6,
   "id": "5a75bb74-a982-42f9-937e-f6e13a3a47b1",
   "metadata": {},
   "outputs": [
    {
     "data": {
      "text/plain": [
       "[1, 34, 45, 50, 65, 67, 77, 87, 98, 99]"
      ]
     },
     "execution_count": 6,
     "metadata": {},
     "output_type": "execute_result"
    }
   ],
   "source": [
    "x"
   ]
  },
  {
   "cell_type": "code",
   "execution_count": 7,
   "id": "bc6fcc5d-5eb6-47b6-b6d7-4ab8373625e3",
   "metadata": {},
   "outputs": [
    {
     "data": {
      "text/plain": [
       "10"
      ]
     },
     "execution_count": 7,
     "metadata": {},
     "output_type": "execute_result"
    }
   ],
   "source": [
    "len(x)"
   ]
  },
  {
   "cell_type": "code",
   "execution_count": 8,
   "id": "18cba776-8eba-47e3-94a5-f955dfdb123c",
   "metadata": {},
   "outputs": [
    {
     "data": {
      "text/plain": [
       "99"
      ]
     },
     "execution_count": 8,
     "metadata": {},
     "output_type": "execute_result"
    }
   ],
   "source": [
    "max(x)"
   ]
  },
  {
   "cell_type": "code",
   "execution_count": 9,
   "id": "5fc8fd71-0c02-4e45-a20c-c3bfd45cb84c",
   "metadata": {},
   "outputs": [
    {
     "data": {
      "text/plain": [
       "1"
      ]
     },
     "execution_count": 9,
     "metadata": {},
     "output_type": "execute_result"
    }
   ],
   "source": [
    "min(x)"
   ]
  },
  {
   "cell_type": "code",
   "execution_count": 10,
   "id": "f1b88bcc-f0eb-4c8e-b8fa-082357b4bf12",
   "metadata": {},
   "outputs": [],
   "source": [
    "x=[1,23,34,54,67,87,89,1,45]\n"
   ]
  },
  {
   "cell_type": "code",
   "execution_count": 11,
   "id": "2f254988-fba4-4073-89cf-2c9ad873974a",
   "metadata": {},
   "outputs": [
    {
     "data": {
      "text/plain": [
       "2"
      ]
     },
     "execution_count": 11,
     "metadata": {},
     "output_type": "execute_result"
    }
   ],
   "source": [
    "x.count(1)"
   ]
  },
  {
   "cell_type": "code",
   "execution_count": 12,
   "id": "4dbc991d-dcb7-4d48-bf70-c3595243a1f2",
   "metadata": {},
   "outputs": [],
   "source": [
    "x=[1,2,3,4,5,6,7,8,9,10]\n"
   ]
  },
  {
   "cell_type": "code",
   "execution_count": 13,
   "id": "fa686797-5587-434a-aa4c-9b7cfe87a482",
   "metadata": {},
   "outputs": [],
   "source": [
    "x.append(11)"
   ]
  },
  {
   "cell_type": "code",
   "execution_count": 14,
   "id": "d442278f-00fc-4914-8719-609f14630ea6",
   "metadata": {},
   "outputs": [
    {
     "data": {
      "text/plain": [
       "[1, 2, 3, 4, 5, 6, 7, 8, 9, 10, 11]"
      ]
     },
     "execution_count": 14,
     "metadata": {},
     "output_type": "execute_result"
    }
   ],
   "source": [
    "x"
   ]
  },
  {
   "cell_type": "code",
   "execution_count": 15,
   "id": "fe1f255d-f28d-4cb9-a19e-66ac8a9810e9",
   "metadata": {},
   "outputs": [
    {
     "name": "stdin",
     "output_type": "stream",
     "text": [
      "Enter your name: Shravan\n",
      "Enter your Department (1=bba,2=bcom,3=psy):  1\n",
      "Enter your name: colin\n",
      "Enter your Department (1=bba,2=bcom,3=psy):  1\n",
      "Enter your name: george\n",
      "Enter your Department (1=bba,2=bcom,3=psy):  2\n",
      "Enter your name: aaron\n",
      "Enter your Department (1=bba,2=bcom,3=psy):  1\n",
      "Enter your name: burhaan\n",
      "Enter your Department (1=bba,2=bcom,3=psy):  2\n",
      "Enter your name: Richard\n",
      "Enter your Department (1=bba,2=bcom,3=psy):  2\n",
      "Enter your name: Shane\n",
      "Enter your Department (1=bba,2=bcom,3=psy):  2\n",
      "Enter your name: Joelito\n",
      "Enter your Department (1=bba,2=bcom,3=psy):  3\n",
      "Enter your name: dhanya\n",
      "Enter your Department (1=bba,2=bcom,3=psy):  3\n",
      "Enter your name: shihas\n",
      "Enter your Department (1=bba,2=bcom,3=psy):  3\n"
     ]
    },
    {
     "name": "stdout",
     "output_type": "stream",
     "text": [
      "['Shravan', 'colin', 'aaron']\n",
      "['george', 'burhaan', 'Richard', 'Shane']\n",
      "['Joelito', 'dhanya', 'shihas']\n"
     ]
    }
   ],
   "source": [
    "bba=[]\n",
    "bcom=[]\n",
    "psy=[]\n",
    "\n",
    "for f in range(10):\n",
    "    x=input(\"Enter your name:\")\n",
    "    y=int(input(\"Enter your Department (1=bba,2=bcom,3=psy): \"))\n",
    "    if y==1:\n",
    "        bba.append(x)\n",
    "    if y==2:\n",
    "        bcom.append(x)\n",
    "    if y==3:\n",
    "        psy.append(x)\n",
    "print(bba)\n",
    "print(bcom)\n",
    "print(psy)"
   ]
  },
  {
   "cell_type": "code",
   "execution_count": 16,
   "id": "e356c7b5-dc3a-4996-8d42-829df2bb1cfc",
   "metadata": {},
   "outputs": [
    {
     "data": {
      "text/plain": [
       "['Shravan', 'colin', 'aaron']"
      ]
     },
     "execution_count": 16,
     "metadata": {},
     "output_type": "execute_result"
    }
   ],
   "source": [
    "bba"
   ]
  },
  {
   "cell_type": "code",
   "execution_count": 24,
   "id": "82916913-1e0d-48ee-810a-f749382f422a",
   "metadata": {},
   "outputs": [],
   "source": [
    "x=[1,2,3,4,5,6]\n",
    "x.insert(2,20)"
   ]
  },
  {
   "cell_type": "code",
   "execution_count": 25,
   "id": "4d23df2c-acda-4db0-99ce-bdf7886d5c9b",
   "metadata": {},
   "outputs": [
    {
     "data": {
      "text/plain": [
       "[1, 2, 20, 3, 4, 5, 6]"
      ]
     },
     "execution_count": 25,
     "metadata": {},
     "output_type": "execute_result"
    }
   ],
   "source": [
    "x"
   ]
  },
  {
   "cell_type": "raw",
   "id": "1c71138a-dc20-4b28-a9ed-0d9568fca62b",
   "metadata": {},
   "source": [
    "x=[1,2,3,4,5,6,7]"
   ]
  },
  {
   "cell_type": "code",
   "execution_count": 26,
   "id": "dafbcf55-20a3-4cda-87a2-4be9c45e5ee2",
   "metadata": {},
   "outputs": [],
   "source": [
    "x=[1,2,3,4,5,6,7]\n",
    "x.insert(3,99)"
   ]
  },
  {
   "cell_type": "code",
   "execution_count": 27,
   "id": "309de614-7e19-4e4f-882a-0b92905b8bf1",
   "metadata": {},
   "outputs": [
    {
     "data": {
      "text/plain": [
       "[1, 2, 3, 99, 4, 5, 6, 7]"
      ]
     },
     "execution_count": 27,
     "metadata": {},
     "output_type": "execute_result"
    }
   ],
   "source": [
    "x"
   ]
  },
  {
   "cell_type": "code",
   "execution_count": null,
   "id": "3a6aeb7e-816b-4b5d-893e-4fb98885dbc3",
   "metadata": {},
   "outputs": [],
   "source": []
  }
 ],
 "metadata": {
  "kernelspec": {
   "display_name": "Python 3",
   "language": "python",
   "name": "python3"
  },
  "language_info": {
   "codemirror_mode": {
    "name": "ipython",
    "version": 3
   },
   "file_extension": ".py",
   "mimetype": "text/x-python",
   "name": "python",
   "nbconvert_exporter": "python",
   "pygments_lexer": "ipython3",
   "version": "3.8.8"
  }
 },
 "nbformat": 4,
 "nbformat_minor": 5
}
