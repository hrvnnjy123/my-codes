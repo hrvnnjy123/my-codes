{
 "cells": [
  {
   "cell_type": "code",
   "execution_count": 1,
   "id": "6ab239ec-8184-4161-8e91-bb38b1670f06",
   "metadata": {},
   "outputs": [
    {
     "data": {
      "text/plain": [
       "300"
      ]
     },
     "execution_count": 1,
     "metadata": {},
     "output_type": "execute_result"
    }
   ],
   "source": [
    "xx=100\n",
    "xy=200\n",
    "xx+xy"
   ]
  },
  {
   "cell_type": "code",
   "execution_count": 2,
   "id": "06428a68-e2ff-4fbf-95fa-b5c033898568",
   "metadata": {},
   "outputs": [
    {
     "data": {
      "text/plain": [
       "600"
      ]
     },
     "execution_count": 2,
     "metadata": {},
     "output_type": "execute_result"
    }
   ],
   "source": [
    "Shravan=100\n",
    "Richard=200\n",
    "Aaron=300\n",
    "Shravan+Richard+Aaron"
   ]
  },
  {
   "cell_type": "code",
   "execution_count": 3,
   "id": "dc69437d-8bf0-40e5-970f-2433ceb867cf",
   "metadata": {},
   "outputs": [
    {
     "data": {
      "text/plain": [
       "69"
      ]
     },
     "execution_count": 3,
     "metadata": {},
     "output_type": "execute_result"
    }
   ],
   "source": [
    "Richard=35\n",
    "Adonis=34\n",
    "Richard+Adonis"
   ]
  },
  {
   "cell_type": "code",
   "execution_count": 4,
   "id": "4d224a28-9d56-4dc1-94d9-fd9a811ca937",
   "metadata": {},
   "outputs": [
    {
     "ename": "TypeError",
     "evalue": "'int' object is not callable",
     "output_type": "error",
     "traceback": [
      "\u001b[1;31m---------------------------------------------------------------------------\u001b[0m",
      "\u001b[1;31mTypeError\u001b[0m                                 Traceback (most recent call last)",
      "\u001b[1;32m<ipython-input-4-0a7a4e00b480>\u001b[0m in \u001b[0;36m<module>\u001b[1;34m\u001b[0m\n\u001b[0;32m      1\u001b[0m \u001b[0mprint\u001b[0m\u001b[1;33m=\u001b[0m\u001b[1;36m100\u001b[0m\u001b[1;33m\u001b[0m\u001b[1;33m\u001b[0m\u001b[0m\n\u001b[1;32m----> 2\u001b[1;33m \u001b[0mprint\u001b[0m\u001b[1;33m(\u001b[0m\u001b[0mprint\u001b[0m\u001b[1;33m)\u001b[0m\u001b[1;33m\u001b[0m\u001b[1;33m\u001b[0m\u001b[0m\n\u001b[0m",
      "\u001b[1;31mTypeError\u001b[0m: 'int' object is not callable"
     ]
    }
   ],
   "source": [
    "print=100\n",
    "print(print)"
   ]
  },
  {
   "cell_type": "code",
   "execution_count": null,
   "id": "dbebc29f-4413-491c-a320-4956de21d361",
   "metadata": {},
   "outputs": [],
   "source": [
    "ABC=10"
   ]
  },
  {
   "cell_type": "code",
   "execution_count": null,
   "id": "3d0d8945-fda1-44f7-9340-c5a559e0163d",
   "metadata": {},
   "outputs": [],
   "source": [
    "Abc=10"
   ]
  },
  {
   "cell_type": "code",
   "execution_count": null,
   "id": "b92daafa-4a88-47ae-842c-c43952a1bc95",
   "metadata": {},
   "outputs": [],
   "source": [
    "abc=10"
   ]
  },
  {
   "cell_type": "code",
   "execution_count": null,
   "id": "fce00c77-e543-4cd6-b742-2ffb63b5681d",
   "metadata": {},
   "outputs": [],
   "source": [
    "#1abc=0"
   ]
  },
  {
   "cell_type": "code",
   "execution_count": null,
   "id": "72b314a7-45cf-46fd-bcec-2d6270137cc4",
   "metadata": {},
   "outputs": [],
   "source": [
    "a b=10"
   ]
  },
  {
   "cell_type": "code",
   "execution_count": null,
   "id": "f39606ec-2ae2-4380-994d-a2e8046b948c",
   "metadata": {},
   "outputs": [],
   "source": [
    "# a b=10"
   ]
  },
  {
   "cell_type": "code",
   "execution_count": null,
   "id": "23a07663-a105-4a6e-8e65-d135bde72d1d",
   "metadata": {},
   "outputs": [],
   "source": [
    "x,y,z=\"Shravan\",\"Richard\",\"Aaron\""
   ]
  },
  {
   "cell_type": "code",
   "execution_count": null,
   "id": "8908d1fa-f64e-4222-b6c2-8311e96d34b1",
   "metadata": {},
   "outputs": [],
   "source": [
    "x"
   ]
  },
  {
   "cell_type": "code",
   "execution_count": null,
   "id": "5805947c-ce0c-4e47-8d00-429b8e1452a6",
   "metadata": {},
   "outputs": [],
   "source": [
    "y"
   ]
  },
  {
   "cell_type": "code",
   "execution_count": null,
   "id": "60a25c2e-3d50-4d73-8f68-3a0daf402fa1",
   "metadata": {},
   "outputs": [],
   "source": [
    "z"
   ]
  },
  {
   "cell_type": "code",
   "execution_count": null,
   "id": "07eb6bf7-1c30-42e8-b202-b43d6e335e3f",
   "metadata": {},
   "outputs": [],
   "source": [
    "import math as s"
   ]
  },
  {
   "cell_type": "code",
   "execution_count": null,
   "id": "39d8922c-7d8d-4f7b-8a3c-1dcf48585bcb",
   "metadata": {},
   "outputs": [],
   "source": [
    "s.pi"
   ]
  },
  {
   "cell_type": "code",
   "execution_count": null,
   "id": "24fef6e2-56f1-4c5f-b86d-ba42c5cccbd4",
   "metadata": {},
   "outputs": [],
   "source": [
    "s.cos(0)"
   ]
  },
  {
   "cell_type": "code",
   "execution_count": null,
   "id": "55c631f3-3f50-46da-a0c2-20f716a05a5a",
   "metadata": {},
   "outputs": [],
   "source": [
    "s.sin(s.pi/2)"
   ]
  },
  {
   "cell_type": "code",
   "execution_count": null,
   "id": "1bfaaa29-e898-4079-9e4e-e71741402f5a",
   "metadata": {},
   "outputs": [],
   "source": [
    "import math as s\n",
    "x=int(input(\"Enter your number:\"))\n",
    "y=int(input(\"Enter a no from 1 to 4:\"))\n",
    "if y == 1:\n",
    "    A=s.sin(x)\n",
    "    print(A)\n",
    "if y == 2:\n",
    "    A=s.cos(x)\n",
    "    print(A)\n",
    "if y == 3:\n",
    "    A=s.tan(x)\n",
    "    print(A)\n",
    "if y==4:\n",
    "    A=s.log(x)\n",
    "    print(A)\n",
    "    "
   ]
  },
  {
   "cell_type": "code",
   "execution_count": 14,
   "id": "5cdaa814-6d4c-4618-9977-f9da7274e948",
   "metadata": {},
   "outputs": [],
   "source": [
    "def Sarin(x):\n",
    "    print(\"sq of x=\", x*x)"
   ]
  },
  {
   "cell_type": "code",
   "execution_count": 18,
   "id": "a5005d00-d5f8-4651-af35-77331f1a3420",
   "metadata": {},
   "outputs": [
    {
     "name": "stdin",
     "output_type": "stream",
     "text": [
      "enter your number: 4\n"
     ]
    },
    {
     "ename": "NameError",
     "evalue": "name 'Sarin' is not defined",
     "output_type": "error",
     "traceback": [
      "\u001b[1;31m---------------------------------------------------------------------------\u001b[0m",
      "\u001b[1;31mNameError\u001b[0m                                 Traceback (most recent call last)",
      "\u001b[1;32m<ipython-input-18-5c29125cff9b>\u001b[0m in \u001b[0;36m<module>\u001b[1;34m\u001b[0m\n\u001b[0;32m      1\u001b[0m \u001b[0mx\u001b[0m\u001b[1;33m=\u001b[0m\u001b[0mint\u001b[0m\u001b[1;33m(\u001b[0m\u001b[0minput\u001b[0m\u001b[1;33m(\u001b[0m\u001b[1;34m\"enter your number:\"\u001b[0m\u001b[1;33m)\u001b[0m\u001b[1;33m)\u001b[0m\u001b[1;33m\u001b[0m\u001b[1;33m\u001b[0m\u001b[0m\n\u001b[1;32m----> 2\u001b[1;33m \u001b[0mSarin\u001b[0m\u001b[1;33m(\u001b[0m\u001b[0mx\u001b[0m\u001b[1;33m)\u001b[0m\u001b[1;33m\u001b[0m\u001b[1;33m\u001b[0m\u001b[0m\n\u001b[0m",
      "\u001b[1;31mNameError\u001b[0m: name 'Sarin' is not defined"
     ]
    }
   ],
   "source": [
    "x=int(input(\"enter your number:\"))\n",
    "Sarin(x)"
   ]
  },
  {
   "cell_type": "code",
   "execution_count": 10,
   "id": "79893cb7-2396-4dba-9f1c-65501948c983",
   "metadata": {},
   "outputs": [
    {
     "ename": "TypeError",
     "evalue": "'int' object is not callable",
     "output_type": "error",
     "traceback": [
      "\u001b[1;31m---------------------------------------------------------------------------\u001b[0m",
      "\u001b[1;31mTypeError\u001b[0m                                 Traceback (most recent call last)",
      "\u001b[1;32m<ipython-input-10-2532fdcbd017>\u001b[0m in \u001b[0;36m<module>\u001b[1;34m\u001b[0m\n\u001b[1;32m----> 1\u001b[1;33m \u001b[0mRichard\u001b[0m\u001b[1;33m(\u001b[0m\u001b[0mx\u001b[0m\u001b[1;33m)\u001b[0m\u001b[1;33m\u001b[0m\u001b[1;33m\u001b[0m\u001b[0m\n\u001b[0m",
      "\u001b[1;32m<ipython-input-7-024ecc5ddd09>\u001b[0m in \u001b[0;36mRichard\u001b[1;34m(x)\u001b[0m\n\u001b[0;32m      1\u001b[0m \u001b[1;32mdef\u001b[0m \u001b[0mRichard\u001b[0m\u001b[1;33m(\u001b[0m\u001b[0mx\u001b[0m\u001b[1;33m)\u001b[0m\u001b[1;33m:\u001b[0m\u001b[1;33m\u001b[0m\u001b[1;33m\u001b[0m\u001b[0m\n\u001b[1;32m----> 2\u001b[1;33m     \u001b[0mprint\u001b[0m\u001b[1;33m(\u001b[0m\u001b[1;34m\"Sq of x=\"\u001b[0m\u001b[1;33m,\u001b[0m\u001b[0mx\u001b[0m\u001b[1;33m*\u001b[0m\u001b[0mx\u001b[0m\u001b[1;33m)\u001b[0m\u001b[1;33m\u001b[0m\u001b[1;33m\u001b[0m\u001b[0m\n\u001b[0m",
      "\u001b[1;31mTypeError\u001b[0m: 'int' object is not callable"
     ]
    }
   ],
   "source": [
    "Richard(x)"
   ]
  },
  {
   "cell_type": "code",
   "execution_count": null,
   "id": "632bbd4a-cac9-4096-8bc2-975f2e66acef",
   "metadata": {},
   "outputs": [],
   "source": []
  }
 ],
 "metadata": {
  "kernelspec": {
   "display_name": "Python 3",
   "language": "python",
   "name": "python3"
  },
  "language_info": {
   "codemirror_mode": {
    "name": "ipython",
    "version": 3
   },
   "file_extension": ".py",
   "mimetype": "text/x-python",
   "name": "python",
   "nbconvert_exporter": "python",
   "pygments_lexer": "ipython3",
   "version": "3.8.8"
  }
 },
 "nbformat": 4,
 "nbformat_minor": 5
}
