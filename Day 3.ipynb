{
 "cells": [
  {
   "cell_type": "code",
   "execution_count": 1,
   "id": "ff19acb1-377a-453f-97a9-3df97d3a45b1",
   "metadata": {},
   "outputs": [],
   "source": [
    "x=10"
   ]
  },
  {
   "cell_type": "code",
   "execution_count": 2,
   "id": "321d3528-c463-4d59-8147-6667053ee648",
   "metadata": {},
   "outputs": [],
   "source": [
    "if x>15 : \n",
    "    print(\"x is greater than 15\")"
   ]
  },
  {
   "cell_type": "code",
   "execution_count": 3,
   "id": "7f114e09-1f52-4c95-a04b-1dedee018a29",
   "metadata": {},
   "outputs": [
    {
     "name": "stdout",
     "output_type": "stream",
     "text": [
      "x is less than 15\n"
     ]
    }
   ],
   "source": [
    "if x<15 :\n",
    "    print(\"x is less than 15\")"
   ]
  },
  {
   "cell_type": "code",
   "execution_count": 4,
   "id": "32617897-090e-478a-8d78-d62aa96ecc9d",
   "metadata": {},
   "outputs": [],
   "source": [
    "x=20"
   ]
  },
  {
   "cell_type": "code",
   "execution_count": 5,
   "id": "0b3b9f0a-362e-4a5d-bc3f-d047fa6669e7",
   "metadata": {},
   "outputs": [
    {
     "name": "stdin",
     "output_type": "stream",
     "text": [
      "Enter a number - 15\n"
     ]
    },
    {
     "name": "stdout",
     "output_type": "stream",
     "text": [
      "x is 15\n"
     ]
    }
   ],
   "source": [
    "x= int(input(\"Enter a number -\"))\n",
    "if x>15 :\n",
    "    print(\"x greater than 15\")\n",
    "    print(\"India is my country\")\n",
    "if x<15 :\n",
    "    print(\"x less than 15\")\n",
    "if x==15 :\n",
    "    print(\"x is 15\")"
   ]
  },
  {
   "cell_type": "code",
   "execution_count": 6,
   "id": "04f6af15-cc6c-443b-8ccf-495e098dd277",
   "metadata": {},
   "outputs": [
    {
     "name": "stdin",
     "output_type": "stream",
     "text": [
      "Enter P: 5000\n",
      "Enter N: 6\n"
     ]
    },
    {
     "name": "stdout",
     "output_type": "stream",
     "text": [
      "7400.0\n"
     ]
    }
   ],
   "source": [
    "P=int(input(\"Enter P:\"))\n",
    "N=int(input(\"Enter N:\"))\n",
    "if N>6:\n",
    "    R=10\n",
    "if N<=6:\n",
    "    R=8\n",
    "pnr=int(P)*int(N)*int(R)\n",
    "P1=int(P)+(pnr/100)\n",
    "print(P1)\n",
    "   \n"
   ]
  },
  {
   "cell_type": "code",
   "execution_count": 7,
   "id": "c9a2d46a-346e-47c3-8a34-b2cb47706f4c",
   "metadata": {},
   "outputs": [
    {
     "name": "stdin",
     "output_type": "stream",
     "text": [
      "Enter P: 100000\n",
      "Enter N: 2\n"
     ]
    },
    {
     "name": "stdout",
     "output_type": "stream",
     "text": [
      "120000.0\n"
     ]
    }
   ],
   "source": [
    "P=int(input(\"Enter P:\"))\n",
    "N=int(input(\"Enter N:\"))\n",
    "if P>=50000:\n",
    "    R=10\n",
    "pnr=int(P)*int(N)*int(R)\n",
    "P1=int(P)+(pnr/100)\n",
    "print(P1)"
   ]
  },
  {
   "cell_type": "code",
   "execution_count": 11,
   "id": "db4fab6f-33ab-47c9-9e96-7bf99d698997",
   "metadata": {},
   "outputs": [
    {
     "name": "stdin",
     "output_type": "stream",
     "text": [
      "Enter the first no.: 400\n",
      "Enter the second no.: 300\n",
      " 2\n"
     ]
    },
    {
     "name": "stdout",
     "output_type": "stream",
     "text": [
      "100\n"
     ]
    }
   ],
   "source": [
    "x=int(input(\"Enter the first no.:\"))\n",
    "y=int(input(\"Enter the second no.:\"))\n",
    "z=int(input())\n",
    "if z==1:\n",
    "   A=x+y\n",
    "   print(A)\n",
    "if z==2:\n",
    "    A=x-y\n",
    "    print(A)\n",
    "if z==3:\n",
    "    A=x*y\n",
    "    print(A)\n",
    "if z==4:\n",
    "    A=x/y\n",
    "    print(A)"
   ]
  },
  {
   "cell_type": "code",
   "execution_count": 13,
   "id": "0a4823f3-6153-45f2-8629-bf7e55336160",
   "metadata": {},
   "outputs": [
    {
     "name": "stdin",
     "output_type": "stream",
     "text": [
      "Enter the first no.: 300\n",
      "Enter the second no.: 400\n",
      " Add\n"
     ]
    },
    {
     "name": "stdout",
     "output_type": "stream",
     "text": [
      "700\n"
     ]
    }
   ],
   "source": [
    "x=int(input(\"Enter the first no.:\"))\n",
    "y=int(input(\"Enter the second no.:\"))\n",
    "z=input()\n",
    "if z==\"Add\":\n",
    "   A=x+y\n",
    "   print(A)\n",
    "if z==\"Subtract\":\n",
    "    A=x-y\n",
    "    print(A)\n",
    "if z==\"Multiply\":\n",
    "    A=x*y\n",
    "    print(A)\n",
    "if z==\"Divide\":\n",
    "    A=x/y\n",
    "    print(A)"
   ]
  },
  {
   "cell_type": "code",
   "execution_count": null,
   "id": "6a1816c7-52bb-4425-bde9-b609f9a5530c",
   "metadata": {},
   "outputs": [],
   "source": []
  }
 ],
 "metadata": {
  "kernelspec": {
   "display_name": "Python 3",
   "language": "python",
   "name": "python3"
  },
  "language_info": {
   "codemirror_mode": {
    "name": "ipython",
    "version": 3
   },
   "file_extension": ".py",
   "mimetype": "text/x-python",
   "name": "python",
   "nbconvert_exporter": "python",
   "pygments_lexer": "ipython3",
   "version": "3.8.8"
  }
 },
 "nbformat": 4,
 "nbformat_minor": 5
}
