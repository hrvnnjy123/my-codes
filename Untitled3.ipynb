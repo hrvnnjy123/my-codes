{
 "cells": [
  {
   "cell_type": "code",
   "execution_count": 31,
   "id": "b053b85e-3d3a-424d-9a47-572074fe6c6d",
   "metadata": {},
   "outputs": [
    {
     "name": "stdin",
     "output_type": "stream",
     "text": [
      "Enter Standard Time: 20\n",
      "Enter Time Taken: 15\n",
      "Enter Rate: 600\n"
     ]
    },
    {
     "name": "stdout",
     "output_type": "stream",
     "text": [
      "10500.0\n"
     ]
    }
   ],
   "source": [
    "s=int(input(\"Enter Standard Time:\"))\n",
    "t=int(input(\"Enter Time Taken:\"))\n",
    "r=int(input(\"Enter Rate:\"))\n",
    "x = 50/100*((s-t)*r)\n",
    "Total_earnings = (t*r)+x\n",
    "print(Total_earnings)"
   ]
  },
  {
   "cell_type": "code",
   "execution_count": 11,
   "id": "1e0f63a8-bf1c-434f-b6fb-eec7d72c7d6b",
   "metadata": {},
   "outputs": [],
   "source": [
    "import pandas as c"
   ]
  },
  {
   "cell_type": "code",
   "execution_count": 17,
   "id": "f9d6df43-6540-4f28-a1d5-dec1ce30ac87",
   "metadata": {},
   "outputs": [],
   "source": [
    "d=c.read_excel(\"Payments Sample.xlsx\")"
   ]
  },
  {
   "cell_type": "code",
   "execution_count": 18,
   "id": "dfd5a4a1-45b6-4d54-a980-c865872ae3b5",
   "metadata": {},
   "outputs": [
    {
     "data": {
      "text/html": [
       "<div>\n",
       "<style scoped>\n",
       "    .dataframe tbody tr th:only-of-type {\n",
       "        vertical-align: middle;\n",
       "    }\n",
       "\n",
       "    .dataframe tbody tr th {\n",
       "        vertical-align: top;\n",
       "    }\n",
       "\n",
       "    .dataframe thead th {\n",
       "        text-align: right;\n",
       "    }\n",
       "</style>\n",
       "<table border=\"1\" class=\"dataframe\">\n",
       "  <thead>\n",
       "    <tr style=\"text-align: right;\">\n",
       "      <th></th>\n",
       "      <th>Name</th>\n",
       "      <th>t</th>\n",
       "      <th>s</th>\n",
       "      <th>r</th>\n",
       "    </tr>\n",
       "  </thead>\n",
       "  <tbody>\n",
       "    <tr>\n",
       "      <th>0</th>\n",
       "      <td>Colin</td>\n",
       "      <td>15</td>\n",
       "      <td>20</td>\n",
       "      <td>400</td>\n",
       "    </tr>\n",
       "  </tbody>\n",
       "</table>\n",
       "</div>"
      ],
      "text/plain": [
       "    Name   t   s    r\n",
       "0  Colin  15  20  400"
      ]
     },
     "execution_count": 18,
     "metadata": {},
     "output_type": "execute_result"
    }
   ],
   "source": [
    "d"
   ]
  },
  {
   "cell_type": "code",
   "execution_count": 29,
   "id": "c1067569-a92c-41dd-b5a1-a1157a499d2a",
   "metadata": {},
   "outputs": [
    {
     "name": "stdout",
     "output_type": "stream",
     "text": [
      "7000.0\n"
     ]
    }
   ],
   "source": [
    "T=d.loc[0,\"t\"]\n",
    "S=d.loc[0,\"s\"]\n",
    "R=d.loc[0,\"r\"]\n",
    "x=50/100*((S-T)*R)\n",
    "Total_Earnings=(T*R)+x\n",
    "print(Total_Earnings)"
   ]
  },
  {
   "cell_type": "code",
   "execution_count": 32,
   "id": "a0859780-6d51-49f4-808d-d4eb55ff70ab",
   "metadata": {},
   "outputs": [],
   "source": [
    "dp=c.read_excel(\"Manpower.xlsx\")"
   ]
  },
  {
   "cell_type": "code",
   "execution_count": 33,
   "id": "f0c69c1b-d350-4fca-a046-83daf0767ac1",
   "metadata": {},
   "outputs": [
    {
     "data": {
      "text/html": [
       "<div>\n",
       "<style scoped>\n",
       "    .dataframe tbody tr th:only-of-type {\n",
       "        vertical-align: middle;\n",
       "    }\n",
       "\n",
       "    .dataframe tbody tr th {\n",
       "        vertical-align: top;\n",
       "    }\n",
       "\n",
       "    .dataframe thead th {\n",
       "        text-align: right;\n",
       "    }\n",
       "</style>\n",
       "<table border=\"1\" class=\"dataframe\">\n",
       "  <thead>\n",
       "    <tr style=\"text-align: right;\">\n",
       "      <th></th>\n",
       "      <th>P</th>\n",
       "      <th>a</th>\n",
       "      <th>b</th>\n",
       "      <th>c</th>\n",
       "      <th>t</th>\n",
       "      <th>s</th>\n",
       "    </tr>\n",
       "  </thead>\n",
       "  <tbody>\n",
       "    <tr>\n",
       "      <th>0</th>\n",
       "      <td>5000</td>\n",
       "      <td>5</td>\n",
       "      <td>8</td>\n",
       "      <td>6</td>\n",
       "      <td>420</td>\n",
       "      <td>2</td>\n",
       "    </tr>\n",
       "  </tbody>\n",
       "</table>\n",
       "</div>"
      ],
      "text/plain": [
       "      P  a  b  c    t  s\n",
       "0  5000  5  8  6  420  2"
      ]
     },
     "execution_count": 33,
     "metadata": {},
     "output_type": "execute_result"
    }
   ],
   "source": [
    "dp"
   ]
  },
  {
   "cell_type": "code",
   "execution_count": 34,
   "id": "973b5b64-44e0-4917-8c9c-1bdef850e161",
   "metadata": {},
   "outputs": [
    {
     "name": "stdout",
     "output_type": "stream",
     "text": [
      "113.0952380952381\n"
     ]
    }
   ],
   "source": [
    "p=dp.loc[0,\"P\"]\n",
    "A=dp.loc[0,\"a\"]\n",
    "B=dp.loc[0,\"b\"]\n",
    "C=dp.loc[0,\"c\"]\n",
    "T=dp.loc[0,\"t\"]\n",
    "S=dp.loc[0,\"s\"]\n",
    "x=A+B+C\n",
    "M=((p*x)/T)/S\n",
    "print(M)"
   ]
  },
  {
   "cell_type": "code",
   "execution_count": 35,
   "id": "b982343e-6836-4e9c-9ffd-b386eb9b224f",
   "metadata": {},
   "outputs": [],
   "source": [
    "dp=c.read_excel(\"Manpower X.xlsx\")"
   ]
  },
  {
   "cell_type": "code",
   "execution_count": 36,
   "id": "640cfb1a-0766-410a-883f-9c6312a7fc5b",
   "metadata": {},
   "outputs": [
    {
     "data": {
      "text/html": [
       "<div>\n",
       "<style scoped>\n",
       "    .dataframe tbody tr th:only-of-type {\n",
       "        vertical-align: middle;\n",
       "    }\n",
       "\n",
       "    .dataframe tbody tr th {\n",
       "        vertical-align: top;\n",
       "    }\n",
       "\n",
       "    .dataframe thead th {\n",
       "        text-align: right;\n",
       "    }\n",
       "</style>\n",
       "<table border=\"1\" class=\"dataframe\">\n",
       "  <thead>\n",
       "    <tr style=\"text-align: right;\">\n",
       "      <th></th>\n",
       "      <th>P</th>\n",
       "      <th>a</th>\n",
       "      <th>b</th>\n",
       "      <th>c</th>\n",
       "      <th>t</th>\n",
       "      <th>s</th>\n",
       "    </tr>\n",
       "  </thead>\n",
       "  <tbody>\n",
       "    <tr>\n",
       "      <th>0</th>\n",
       "      <td>5000</td>\n",
       "      <td>5</td>\n",
       "      <td>8</td>\n",
       "      <td>6</td>\n",
       "      <td>420</td>\n",
       "      <td>2</td>\n",
       "    </tr>\n",
       "    <tr>\n",
       "      <th>1</th>\n",
       "      <td>4044</td>\n",
       "      <td>1</td>\n",
       "      <td>4</td>\n",
       "      <td>3</td>\n",
       "      <td>360</td>\n",
       "      <td>3</td>\n",
       "    </tr>\n",
       "    <tr>\n",
       "      <th>2</th>\n",
       "      <td>5655</td>\n",
       "      <td>3</td>\n",
       "      <td>5</td>\n",
       "      <td>2</td>\n",
       "      <td>400</td>\n",
       "      <td>1</td>\n",
       "    </tr>\n",
       "    <tr>\n",
       "      <th>3</th>\n",
       "      <td>8600</td>\n",
       "      <td>5</td>\n",
       "      <td>6</td>\n",
       "      <td>1</td>\n",
       "      <td>250</td>\n",
       "      <td>4</td>\n",
       "    </tr>\n",
       "  </tbody>\n",
       "</table>\n",
       "</div>"
      ],
      "text/plain": [
       "      P  a  b  c    t  s\n",
       "0  5000  5  8  6  420  2\n",
       "1  4044  1  4  3  360  3\n",
       "2  5655  3  5  2  400  1\n",
       "3  8600  5  6  1  250  4"
      ]
     },
     "execution_count": 36,
     "metadata": {},
     "output_type": "execute_result"
    }
   ],
   "source": [
    "dp"
   ]
  },
  {
   "cell_type": "code",
   "execution_count": 41,
   "id": "977b4e0e-e8ff-40e7-9dc6-439c4ee704e1",
   "metadata": {},
   "outputs": [
    {
     "name": "stdout",
     "output_type": "stream",
     "text": [
      "113.0952380952381\n",
      "29.955555555555552\n",
      "141.375\n",
      "103.2\n"
     ]
    }
   ],
   "source": [
    "dp=c.read_excel(\"Manpower X.xlsx\")\n",
    "D=0\n",
    "d=0\n",
    "for D in dp.index:\n",
    "    \n",
    "        p=dp.loc[D,\"P\"]\n",
    "        A=dp.loc[D,\"a\"]\n",
    "        B=dp.loc[D,\"b\"]\n",
    "        C=dp.loc[D,\"c\"]\n",
    "        T=dp.loc[D,\"t\"]\n",
    "        S=dp.loc[D,\"s\"]\n",
    "        x=A+B+C\n",
    "        M=((p*x)/T)/S\n",
    "        D=D+d\n",
    "        d=d+1\n",
    "        print(M)\n",
    "        \n",
    "    "
   ]
  },
  {
   "cell_type": "code",
   "execution_count": null,
   "id": "81c55fd1-2c83-4f64-9b83-b4af477869de",
   "metadata": {},
   "outputs": [],
   "source": []
  }
 ],
 "metadata": {
  "kernelspec": {
   "display_name": "Python 3",
   "language": "python",
   "name": "python3"
  },
  "language_info": {
   "codemirror_mode": {
    "name": "ipython",
    "version": 3
   },
   "file_extension": ".py",
   "mimetype": "text/x-python",
   "name": "python",
   "nbconvert_exporter": "python",
   "pygments_lexer": "ipython3",
   "version": "3.8.8"
  }
 },
 "nbformat": 4,
 "nbformat_minor": 5
}
