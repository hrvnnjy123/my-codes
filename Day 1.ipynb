{
 "cells": [
  {
   "cell_type": "code",
   "execution_count": 1,
   "id": "6ed505b0-a157-4dd8-8b98-71ac72d9fbd4",
   "metadata": {},
   "outputs": [
    {
     "name": "stdout",
     "output_type": "stream",
     "text": [
      "Shravan\n"
     ]
    }
   ],
   "source": [
    "print(\"Shravan\")"
   ]
  },
  {
   "cell_type": "code",
   "execution_count": 2,
   "id": "daaacc13-4018-44f0-8aa7-b6d09456b358",
   "metadata": {},
   "outputs": [],
   "source": [
    "x=10"
   ]
  },
  {
   "cell_type": "code",
   "execution_count": 3,
   "id": "bebdfe40-8ac0-4771-8740-211ef9202118",
   "metadata": {},
   "outputs": [
    {
     "name": "stdout",
     "output_type": "stream",
     "text": [
      "10\n"
     ]
    }
   ],
   "source": [
    "print(x)"
   ]
  },
  {
   "cell_type": "code",
   "execution_count": 4,
   "id": "eb2624d7-90a0-4192-a3a6-63f36a5e0781",
   "metadata": {},
   "outputs": [],
   "source": [
    "x=\"India\""
   ]
  },
  {
   "cell_type": "code",
   "execution_count": 5,
   "id": "7a364034-b326-48f0-924b-facbcbc5bb75",
   "metadata": {},
   "outputs": [
    {
     "name": "stdout",
     "output_type": "stream",
     "text": [
      "India\n"
     ]
    }
   ],
   "source": [
    "print(x)"
   ]
  },
  {
   "cell_type": "code",
   "execution_count": 6,
   "id": "3a0b5f91-0400-42c3-afba-a21c5deb5d79",
   "metadata": {},
   "outputs": [],
   "source": [
    "y=20"
   ]
  },
  {
   "cell_type": "code",
   "execution_count": 7,
   "id": "d3a21ce9-a51a-4a2c-a93c-9ddf372d528a",
   "metadata": {},
   "outputs": [
    {
     "name": "stdout",
     "output_type": "stream",
     "text": [
      "20\n"
     ]
    }
   ],
   "source": [
    "print(y)"
   ]
  },
  {
   "cell_type": "code",
   "execution_count": 10,
   "id": "53cdf144-8b8f-4ddf-a8a6-17d7ed6d2517",
   "metadata": {},
   "outputs": [],
   "source": [
    "x=2002\n",
    "y=9\n",
    "z=9.2"
   ]
  },
  {
   "cell_type": "code",
   "execution_count": 11,
   "id": "5a3e9214-3263-4262-8ab5-c7ea83c4895f",
   "metadata": {},
   "outputs": [
    {
     "name": "stdout",
     "output_type": "stream",
     "text": [
      "2002 9 9.2\n"
     ]
    }
   ],
   "source": [
    "print(x,y,z)"
   ]
  },
  {
   "cell_type": "code",
   "execution_count": 12,
   "id": "3c47578b-5991-4f75-bcf2-e5776ac854d8",
   "metadata": {},
   "outputs": [
    {
     "data": {
      "text/plain": [
       "int"
      ]
     },
     "execution_count": 12,
     "metadata": {},
     "output_type": "execute_result"
    }
   ],
   "source": [
    "type(x)"
   ]
  },
  {
   "cell_type": "code",
   "execution_count": 13,
   "id": "d33db841-8540-402f-85e7-7d2564872cc5",
   "metadata": {},
   "outputs": [
    {
     "data": {
      "text/plain": [
       "int"
      ]
     },
     "execution_count": 13,
     "metadata": {},
     "output_type": "execute_result"
    }
   ],
   "source": [
    "type(y)"
   ]
  },
  {
   "cell_type": "code",
   "execution_count": 14,
   "id": "adae23c2-0d05-4357-8b17-66c36bf0e542",
   "metadata": {},
   "outputs": [
    {
     "data": {
      "text/plain": [
       "float"
      ]
     },
     "execution_count": 14,
     "metadata": {},
     "output_type": "execute_result"
    }
   ],
   "source": [
    "type(z)"
   ]
  },
  {
   "cell_type": "code",
   "execution_count": 15,
   "id": "4d853d66-acf9-4058-ad1b-bd68af892f13",
   "metadata": {},
   "outputs": [],
   "source": [
    "x=10\n",
    "y=10.5"
   ]
  },
  {
   "cell_type": "code",
   "execution_count": 16,
   "id": "86b15379-ac1e-417c-8db0-5d6ba4b3a13e",
   "metadata": {},
   "outputs": [],
   "source": [
    "z=x+y"
   ]
  },
  {
   "cell_type": "code",
   "execution_count": 17,
   "id": "93764165-7104-4a68-95e9-8252df691447",
   "metadata": {},
   "outputs": [
    {
     "name": "stdout",
     "output_type": "stream",
     "text": [
      "20.5\n"
     ]
    }
   ],
   "source": [
    "print(z)"
   ]
  },
  {
   "cell_type": "code",
   "execution_count": 18,
   "id": "712c1f5a-2f29-4512-bf03-3d382e31596c",
   "metadata": {},
   "outputs": [
    {
     "data": {
      "text/plain": [
       "float"
      ]
     },
     "execution_count": 18,
     "metadata": {},
     "output_type": "execute_result"
    }
   ],
   "source": [
    "type(z)"
   ]
  },
  {
   "cell_type": "code",
   "execution_count": 19,
   "id": "dcc9602c-0b87-45a8-9cdf-c5b59b187ef3",
   "metadata": {},
   "outputs": [],
   "source": [
    "x=10\n",
    "y=10.0\n",
    "z=x+y"
   ]
  },
  {
   "cell_type": "code",
   "execution_count": 20,
   "id": "53c8e5f2-2384-44e4-a6ab-0a721882b4fd",
   "metadata": {},
   "outputs": [
    {
     "name": "stdout",
     "output_type": "stream",
     "text": [
      "20.0\n"
     ]
    }
   ],
   "source": [
    "print(z)"
   ]
  },
  {
   "cell_type": "code",
   "execution_count": 21,
   "id": "edf24c41-a506-4b47-86bc-7a328426dac1",
   "metadata": {},
   "outputs": [
    {
     "data": {
      "text/plain": [
       "float"
      ]
     },
     "execution_count": 21,
     "metadata": {},
     "output_type": "execute_result"
    }
   ],
   "source": [
    "type(z)"
   ]
  },
  {
   "cell_type": "code",
   "execution_count": 24,
   "id": "ebd592ee-1284-4457-beec-dd4041389a2e",
   "metadata": {},
   "outputs": [
    {
     "name": "stdout",
     "output_type": "stream",
     "text": [
      "india is my country\n"
     ]
    }
   ],
   "source": [
    "x=\"india\"\n",
    "y=\"is\"\n",
    "z=\"my country\"\n",
    "a=x+\" \"+y+\" \"+z\n",
    "print(a)"
   ]
  },
  {
   "cell_type": "code",
   "execution_count": 25,
   "id": "6bf3e896-f149-49ea-b082-6865d1c67205",
   "metadata": {},
   "outputs": [
    {
     "name": "stdout",
     "output_type": "stream",
     "text": [
      "indiaismy country\n"
     ]
    }
   ],
   "source": [
    "a=x+y+z\n",
    "print(a)"
   ]
  },
  {
   "cell_type": "code",
   "execution_count": null,
   "id": "2584e19c-0235-480b-83e7-a07cd805e5d8",
   "metadata": {},
   "outputs": [],
   "source": []
  }
 ],
 "metadata": {
  "kernelspec": {
   "display_name": "Python 3",
   "language": "python",
   "name": "python3"
  },
  "language_info": {
   "codemirror_mode": {
    "name": "ipython",
    "version": 3
   },
   "file_extension": ".py",
   "mimetype": "text/x-python",
   "name": "python",
   "nbconvert_exporter": "python",
   "pygments_lexer": "ipython3",
   "version": "3.8.8"
  }
 },
 "nbformat": 4,
 "nbformat_minor": 5
}
