{
 "cells": [
  {
   "cell_type": "code",
   "execution_count": 1,
   "id": "02969d92-39f1-4a76-b00b-b32a0fb2d2cd",
   "metadata": {},
   "outputs": [],
   "source": [
    "import pandas as p"
   ]
  },
  {
   "cell_type": "code",
   "execution_count": 2,
   "id": "f51d48b9-a884-4f39-aa49-bb9fdf0e489a",
   "metadata": {},
   "outputs": [],
   "source": [
    "d=p.read_excel(\"Income Tax.xlsx\")"
   ]
  },
  {
   "cell_type": "code",
   "execution_count": 3,
   "id": "c4389e74-906d-46de-928b-55127e175808",
   "metadata": {},
   "outputs": [
    {
     "data": {
      "text/html": [
       "<div>\n",
       "<style scoped>\n",
       "    .dataframe tbody tr th:only-of-type {\n",
       "        vertical-align: middle;\n",
       "    }\n",
       "\n",
       "    .dataframe tbody tr th {\n",
       "        vertical-align: top;\n",
       "    }\n",
       "\n",
       "    .dataframe thead th {\n",
       "        text-align: right;\n",
       "    }\n",
       "</style>\n",
       "<table border=\"1\" class=\"dataframe\">\n",
       "  <thead>\n",
       "    <tr style=\"text-align: right;\">\n",
       "      <th></th>\n",
       "      <th>Salary</th>\n",
       "    </tr>\n",
       "  </thead>\n",
       "  <tbody>\n",
       "    <tr>\n",
       "      <th>0</th>\n",
       "      <td>100000</td>\n",
       "    </tr>\n",
       "  </tbody>\n",
       "</table>\n",
       "</div>"
      ],
      "text/plain": [
       "   Salary\n",
       "0  100000"
      ]
     },
     "execution_count": 3,
     "metadata": {},
     "output_type": "execute_result"
    }
   ],
   "source": [
    "d"
   ]
  },
  {
   "cell_type": "code",
   "execution_count": 4,
   "id": "7ff06b42-8b6d-4d8b-96f5-2e57488bec57",
   "metadata": {},
   "outputs": [],
   "source": [
    "x=d.loc[0,\"Salary\"]"
   ]
  },
  {
   "cell_type": "code",
   "execution_count": 5,
   "id": "6ddb71f6-e251-491f-9b90-63a969701c24",
   "metadata": {},
   "outputs": [
    {
     "data": {
      "text/plain": [
       "100000"
      ]
     },
     "execution_count": 5,
     "metadata": {},
     "output_type": "execute_result"
    }
   ],
   "source": [
    "x"
   ]
  },
  {
   "cell_type": "code",
   "execution_count": 9,
   "id": "50ef3ccc-6909-4058-95af-523907b9e30f",
   "metadata": {},
   "outputs": [
    {
     "name": "stdout",
     "output_type": "stream",
     "text": [
      "0\n"
     ]
    }
   ],
   "source": [
    "x=d.loc[0,\"Salary\"]\n",
    "if x<=250000:\n",
    "    tax=0\n",
    "    print(tax)"
   ]
  },
  {
   "cell_type": "code",
   "execution_count": 10,
   "id": "fc5b3828-030c-488e-a6c2-fd120bbd121d",
   "metadata": {},
   "outputs": [],
   "source": [
    "d=p.read_excel(\"Income Tax.xlsx\")"
   ]
  },
  {
   "cell_type": "code",
   "execution_count": 11,
   "id": "0f291a04-0917-4af5-a79f-309d25a9a196",
   "metadata": {},
   "outputs": [
    {
     "data": {
      "text/html": [
       "<div>\n",
       "<style scoped>\n",
       "    .dataframe tbody tr th:only-of-type {\n",
       "        vertical-align: middle;\n",
       "    }\n",
       "\n",
       "    .dataframe tbody tr th {\n",
       "        vertical-align: top;\n",
       "    }\n",
       "\n",
       "    .dataframe thead th {\n",
       "        text-align: right;\n",
       "    }\n",
       "</style>\n",
       "<table border=\"1\" class=\"dataframe\">\n",
       "  <thead>\n",
       "    <tr style=\"text-align: right;\">\n",
       "      <th></th>\n",
       "      <th>Salary</th>\n",
       "    </tr>\n",
       "  </thead>\n",
       "  <tbody>\n",
       "    <tr>\n",
       "      <th>0</th>\n",
       "      <td>100000</td>\n",
       "    </tr>\n",
       "    <tr>\n",
       "      <th>1</th>\n",
       "      <td>260000</td>\n",
       "    </tr>\n",
       "    <tr>\n",
       "      <th>2</th>\n",
       "      <td>600000</td>\n",
       "    </tr>\n",
       "  </tbody>\n",
       "</table>\n",
       "</div>"
      ],
      "text/plain": [
       "   Salary\n",
       "0  100000\n",
       "1  260000\n",
       "2  600000"
      ]
     },
     "execution_count": 11,
     "metadata": {},
     "output_type": "execute_result"
    }
   ],
   "source": [
    "d"
   ]
  },
  {
   "cell_type": "code",
   "execution_count": 21,
   "id": "ff0390b2-b116-44d2-a385-97844beb2b5f",
   "metadata": {},
   "outputs": [
    {
     "data": {
      "text/html": [
       "<div>\n",
       "<style scoped>\n",
       "    .dataframe tbody tr th:only-of-type {\n",
       "        vertical-align: middle;\n",
       "    }\n",
       "\n",
       "    .dataframe tbody tr th {\n",
       "        vertical-align: top;\n",
       "    }\n",
       "\n",
       "    .dataframe thead th {\n",
       "        text-align: right;\n",
       "    }\n",
       "</style>\n",
       "<table border=\"1\" class=\"dataframe\">\n",
       "  <thead>\n",
       "    <tr style=\"text-align: right;\">\n",
       "      <th></th>\n",
       "      <th>Salary</th>\n",
       "      <th>Age</th>\n",
       "      <th>HRA</th>\n",
       "    </tr>\n",
       "  </thead>\n",
       "  <tbody>\n",
       "    <tr>\n",
       "      <th>0</th>\n",
       "      <td>1000000</td>\n",
       "      <td>85</td>\n",
       "      <td>150000</td>\n",
       "    </tr>\n",
       "  </tbody>\n",
       "</table>\n",
       "</div>"
      ],
      "text/plain": [
       "    Salary  Age     HRA\n",
       "0  1000000   85  150000"
      ]
     },
     "execution_count": 21,
     "metadata": {},
     "output_type": "execute_result"
    }
   ],
   "source": [
    "d=p.read_excel(\"Income Tax.xlsx\")\n",
    "d\n",
    "    \n",
    "    "
   ]
  },
  {
   "cell_type": "code",
   "execution_count": 26,
   "id": "f3b10cd8-933c-4049-9d2d-861557a3401d",
   "metadata": {},
   "outputs": [
    {
     "name": "stdout",
     "output_type": "stream",
     "text": [
      "225000.0\n"
     ]
    }
   ],
   "source": [
    "x=d.loc[0,\"Salary\"]\n",
    "y=d.loc[0,\"Age\"]\n",
    "z=d.loc[0,\"HRA\"]\n",
    "if (x<=250000) and (y<=60):\n",
    "    tax=0\n",
    "if (x<=500000 and x>250000) and y<=60:\n",
    "    tax=10/100*(x)\n",
    "if (x<=1000000 and x>500000) and y<=60:\n",
    "    tax=20/100*(x)\n",
    "if (x>1000000) and (y<=60):\n",
    "    tax=30/100*(x)\n",
    "if x<=300000 and (y>60 and y<=80):\n",
    "    tax=0\n",
    "if (x<=500000 and x>300000) and (y>60 and y<=80):\n",
    "    tax=10/100*(x)\n",
    "if (x<=1000000 and x<500000) and (y>60 and y<=80):\n",
    "    tax=20/100*(x)\n",
    "if x >1000000 and (y>60 and y<=80):\n",
    "    tax=30/100*(x)\n",
    "if x<=500000 and y>80:\n",
    "    tax=0\n",
    "if (x<=1000000 and x>500000) and y>80:\n",
    "    tax=20/100*(x)\n",
    "if x>1000000 and (y>80 and y<=100):\n",
    "    tax=30/100*(x)\n",
    "if z<10/100*(x):\n",
    "    a=0\n",
    "if z > 10/100*(x):\n",
    "    a=(50/100)*(z-(10/100*(x)))\n",
    "T=tax+a\n",
    "print(T)"
   ]
  },
  {
   "cell_type": "code",
   "execution_count": null,
   "id": "ba7d04f1-85fd-4aa5-ac3f-ceba51f28ea6",
   "metadata": {},
   "outputs": [],
   "source": []
  },
  {
   "cell_type": "code",
   "execution_count": null,
   "id": "86a8fd5a-fc15-473c-8fdd-f2beed785646",
   "metadata": {},
   "outputs": [],
   "source": []
  }
 ],
 "metadata": {
  "kernelspec": {
   "display_name": "Python 3",
   "language": "python",
   "name": "python3"
  },
  "language_info": {
   "codemirror_mode": {
    "name": "ipython",
    "version": 3
   },
   "file_extension": ".py",
   "mimetype": "text/x-python",
   "name": "python",
   "nbconvert_exporter": "python",
   "pygments_lexer": "ipython3",
   "version": "3.8.8"
  }
 },
 "nbformat": 4,
 "nbformat_minor": 5
}
