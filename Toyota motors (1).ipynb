{
 "cells": [
  {
   "cell_type": "code",
   "execution_count": 15,
   "id": "fcc861b0-be29-4ec5-a1a3-e3b1e6d75473",
   "metadata": {},
   "outputs": [],
   "source": [
    "import pandas as pd\n",
    "import matplotlib.pyplot as plt"
   ]
  },
  {
   "cell_type": "code",
   "execution_count": 16,
   "id": "fd5a785d-5e70-4747-a638-6c79fd9be886",
   "metadata": {},
   "outputs": [],
   "source": [
    "d=pd.read_excel(\"Toyota.xlsx\")"
   ]
  },
  {
   "cell_type": "code",
   "execution_count": 17,
   "id": "5a9e6a5c-802b-4d33-b416-822fdeb717b6",
   "metadata": {},
   "outputs": [
    {
     "data": {
      "text/html": [
       "<div>\n",
       "<style scoped>\n",
       "    .dataframe tbody tr th:only-of-type {\n",
       "        vertical-align: middle;\n",
       "    }\n",
       "\n",
       "    .dataframe tbody tr th {\n",
       "        vertical-align: top;\n",
       "    }\n",
       "\n",
       "    .dataframe thead th {\n",
       "        text-align: right;\n",
       "    }\n",
       "</style>\n",
       "<table border=\"1\" class=\"dataframe\">\n",
       "  <thead>\n",
       "    <tr style=\"text-align: right;\">\n",
       "      <th></th>\n",
       "      <th>Date</th>\n",
       "      <th>Open</th>\n",
       "    </tr>\n",
       "  </thead>\n",
       "  <tbody>\n",
       "    <tr>\n",
       "      <th>0</th>\n",
       "      <td>1</td>\n",
       "      <td>148.449997</td>\n",
       "    </tr>\n",
       "    <tr>\n",
       "      <th>1</th>\n",
       "      <td>2</td>\n",
       "      <td>148.729996</td>\n",
       "    </tr>\n",
       "    <tr>\n",
       "      <th>2</th>\n",
       "      <td>3</td>\n",
       "      <td>151.229996</td>\n",
       "    </tr>\n",
       "    <tr>\n",
       "      <th>3</th>\n",
       "      <td>4</td>\n",
       "      <td>148.199997</td>\n",
       "    </tr>\n",
       "    <tr>\n",
       "      <th>4</th>\n",
       "      <td>5</td>\n",
       "      <td>147.949997</td>\n",
       "    </tr>\n",
       "    <tr>\n",
       "      <th>...</th>\n",
       "      <td>...</td>\n",
       "      <td>...</td>\n",
       "    </tr>\n",
       "    <tr>\n",
       "      <th>247</th>\n",
       "      <td>248</td>\n",
       "      <td>200.979996</td>\n",
       "    </tr>\n",
       "    <tr>\n",
       "      <th>248</th>\n",
       "      <td>249</td>\n",
       "      <td>201.300003</td>\n",
       "    </tr>\n",
       "    <tr>\n",
       "      <th>249</th>\n",
       "      <td>250</td>\n",
       "      <td>205.000000</td>\n",
       "    </tr>\n",
       "    <tr>\n",
       "      <th>250</th>\n",
       "      <td>251</td>\n",
       "      <td>211.000000</td>\n",
       "    </tr>\n",
       "    <tr>\n",
       "      <th>251</th>\n",
       "      <td>252</td>\n",
       "      <td>210.649994</td>\n",
       "    </tr>\n",
       "  </tbody>\n",
       "</table>\n",
       "<p>252 rows × 2 columns</p>\n",
       "</div>"
      ],
      "text/plain": [
       "     Date        Open\n",
       "0       1  148.449997\n",
       "1       2  148.729996\n",
       "2       3  151.229996\n",
       "3       4  148.199997\n",
       "4       5  147.949997\n",
       "..    ...         ...\n",
       "247   248  200.979996\n",
       "248   249  201.300003\n",
       "249   250  205.000000\n",
       "250   251  211.000000\n",
       "251   252  210.649994\n",
       "\n",
       "[252 rows x 2 columns]"
      ]
     },
     "execution_count": 17,
     "metadata": {},
     "output_type": "execute_result"
    }
   ],
   "source": [
    "d"
   ]
  },
  {
   "cell_type": "code",
   "execution_count": 18,
   "id": "3b49a2b1-608e-4598-8167-06a84dc72065",
   "metadata": {},
   "outputs": [],
   "source": [
    "x=d.iloc[:,:-1].values\n",
    "y=d.iloc[:,-1].values"
   ]
  },
  {
   "cell_type": "code",
   "execution_count": 19,
   "id": "08c38277-6bde-48ae-8d50-445e336e6cdd",
   "metadata": {},
   "outputs": [],
   "source": [
    "from sklearn.linear_model import LinearRegression"
   ]
  },
  {
   "cell_type": "code",
   "execution_count": 20,
   "id": "28908628-522c-4e58-a09d-4df9d47f6635",
   "metadata": {},
   "outputs": [],
   "source": [
    "regressor=LinearRegression()"
   ]
  },
  {
   "cell_type": "code",
   "execution_count": 21,
   "id": "102dc2bb-baf8-4340-b328-f6c551ee253d",
   "metadata": {},
   "outputs": [
    {
     "data": {
      "text/plain": [
       "LinearRegression()"
      ]
     },
     "execution_count": 21,
     "metadata": {},
     "output_type": "execute_result"
    }
   ],
   "source": [
    "regressor.fit(x,y)"
   ]
  },
  {
   "cell_type": "code",
   "execution_count": 22,
   "id": "31e94372-2092-43fb-bcca-891104c3ab4a",
   "metadata": {},
   "outputs": [],
   "source": [
    "y_pred=regressor.predict(x)"
   ]
  },
  {
   "cell_type": "code",
   "execution_count": 23,
   "id": "e9166402-309a-4720-9330-321c06f2c4ed",
   "metadata": {},
   "outputs": [
    {
     "data": {
      "text/plain": [
       "array([148.67992075, 148.8545704 , 149.02922005, 149.2038697 ,\n",
       "       149.37851935, 149.553169  , 149.72781866, 149.90246831,\n",
       "       150.07711796, 150.25176761, 150.42641726, 150.60106691,\n",
       "       150.77571657, 150.95036622, 151.12501587, 151.29966552,\n",
       "       151.47431517, 151.64896482, 151.82361448, 151.99826413,\n",
       "       152.17291378, 152.34756343, 152.52221308, 152.69686273,\n",
       "       152.87151239, 153.04616204, 153.22081169, 153.39546134,\n",
       "       153.57011099, 153.74476064, 153.9194103 , 154.09405995,\n",
       "       154.2687096 , 154.44335925, 154.6180089 , 154.79265855,\n",
       "       154.96730821, 155.14195786, 155.31660751, 155.49125716,\n",
       "       155.66590681, 155.84055646, 156.01520611, 156.18985577,\n",
       "       156.36450542, 156.53915507, 156.71380472, 156.88845437,\n",
       "       157.06310402, 157.23775368, 157.41240333, 157.58705298,\n",
       "       157.76170263, 157.93635228, 158.11100193, 158.28565159,\n",
       "       158.46030124, 158.63495089, 158.80960054, 158.98425019,\n",
       "       159.15889984, 159.3335495 , 159.50819915, 159.6828488 ,\n",
       "       159.85749845, 160.0321481 , 160.20679775, 160.38144741,\n",
       "       160.55609706, 160.73074671, 160.90539636, 161.08004601,\n",
       "       161.25469566, 161.42934532, 161.60399497, 161.77864462,\n",
       "       161.95329427, 162.12794392, 162.30259357, 162.47724323,\n",
       "       162.65189288, 162.82654253, 163.00119218, 163.17584183,\n",
       "       163.35049148, 163.52514114, 163.69979079, 163.87444044,\n",
       "       164.04909009, 164.22373974, 164.39838939, 164.57303905,\n",
       "       164.7476887 , 164.92233835, 165.096988  , 165.27163765,\n",
       "       165.4462873 , 165.62093696, 165.79558661, 165.97023626,\n",
       "       166.14488591, 166.31953556, 166.49418521, 166.66883487,\n",
       "       166.84348452, 167.01813417, 167.19278382, 167.36743347,\n",
       "       167.54208312, 167.71673278, 167.89138243, 168.06603208,\n",
       "       168.24068173, 168.41533138, 168.58998103, 168.76463069,\n",
       "       168.93928034, 169.11392999, 169.28857964, 169.46322929,\n",
       "       169.63787894, 169.8125286 , 169.98717825, 170.1618279 ,\n",
       "       170.33647755, 170.5111272 , 170.68577685, 170.86042651,\n",
       "       171.03507616, 171.20972581, 171.38437546, 171.55902511,\n",
       "       171.73367476, 171.90832442, 172.08297407, 172.25762372,\n",
       "       172.43227337, 172.60692302, 172.78157267, 172.95622233,\n",
       "       173.13087198, 173.30552163, 173.48017128, 173.65482093,\n",
       "       173.82947058, 174.00412023, 174.17876989, 174.35341954,\n",
       "       174.52806919, 174.70271884, 174.87736849, 175.05201814,\n",
       "       175.2266678 , 175.40131745, 175.5759671 , 175.75061675,\n",
       "       175.9252664 , 176.09991605, 176.27456571, 176.44921536,\n",
       "       176.62386501, 176.79851466, 176.97316431, 177.14781396,\n",
       "       177.32246362, 177.49711327, 177.67176292, 177.84641257,\n",
       "       178.02106222, 178.19571187, 178.37036153, 178.54501118,\n",
       "       178.71966083, 178.89431048, 179.06896013, 179.24360978,\n",
       "       179.41825944, 179.59290909, 179.76755874, 179.94220839,\n",
       "       180.11685804, 180.29150769, 180.46615735, 180.640807  ,\n",
       "       180.81545665, 180.9901063 , 181.16475595, 181.3394056 ,\n",
       "       181.51405526, 181.68870491, 181.86335456, 182.03800421,\n",
       "       182.21265386, 182.38730351, 182.56195317, 182.73660282,\n",
       "       182.91125247, 183.08590212, 183.26055177, 183.43520142,\n",
       "       183.60985108, 183.78450073, 183.95915038, 184.13380003,\n",
       "       184.30844968, 184.48309933, 184.65774899, 184.83239864,\n",
       "       185.00704829, 185.18169794, 185.35634759, 185.53099724,\n",
       "       185.7056469 , 185.88029655, 186.0549462 , 186.22959585,\n",
       "       186.4042455 , 186.57889515, 186.75354481, 186.92819446,\n",
       "       187.10284411, 187.27749376, 187.45214341, 187.62679306,\n",
       "       187.80144272, 187.97609237, 188.15074202, 188.32539167,\n",
       "       188.50004132, 188.67469097, 188.84934063, 189.02399028,\n",
       "       189.19863993, 189.37328958, 189.54793923, 189.72258888,\n",
       "       189.89723854, 190.07188819, 190.24653784, 190.42118749,\n",
       "       190.59583714, 190.77048679, 190.94513645, 191.1197861 ,\n",
       "       191.29443575, 191.4690854 , 191.64373505, 191.8183847 ,\n",
       "       191.99303436, 192.16768401, 192.34233366, 192.51698331])"
      ]
     },
     "execution_count": 23,
     "metadata": {},
     "output_type": "execute_result"
    }
   ],
   "source": [
    "y_pred"
   ]
  },
  {
   "cell_type": "code",
   "execution_count": 24,
   "id": "649d30bd-042b-4315-be95-8eb3ba407477",
   "metadata": {},
   "outputs": [
    {
     "data": {
      "text/plain": [
       "<matplotlib.collections.PathCollection at 0x159a7279b50>"
      ]
     },
     "execution_count": 24,
     "metadata": {},
     "output_type": "execute_result"
    },
    {
     "data": {
      "image/png": "[encoded data removed]",
      "text/plain": [
       "<Figure size 432x288 with 1 Axes>"
      ]
     },
     "metadata": {
      "needs_background": "light"
     },
     "output_type": "display_data"
    }
   ],
   "source": [
    "plt.plot(x,y_pred)\n",
    "plt.scatter(x,y)"
   ]
  },
  {
   "cell_type": "code",
   "execution_count": 26,
   "id": "75e7f9cf-1041-4c18-9aca-ee1aa8b91dd5",
   "metadata": {},
   "outputs": [],
   "source": [
    "from sklearn.linear_model import LinearRegression\n",
    "from sklearn.preprocessing import PolynomialFeatures"
   ]
  },
  {
   "cell_type": "code",
   "execution_count": 27,
   "id": "41cc84a3-0687-4d92-9dc6-677c51e358b9",
   "metadata": {},
   "outputs": [],
   "source": [
    "poly_reg=PolynomialFeatures(degree=4)"
   ]
  },
  {
   "cell_type": "code",
   "execution_count": 29,
   "id": "9eb7dc4d-d725-4223-a875-1dea1462b142",
   "metadata": {},
   "outputs": [],
   "source": [
    "x_poly=poly_reg.fit_transform(x)"
   ]
  },
  {
   "cell_type": "code",
   "execution_count": 30,
   "id": "41506e08-624e-4f8a-8c27-b3af882d446f",
   "metadata": {},
   "outputs": [],
   "source": [
    "regressor=LinearRegression()"
   ]
  },
  {
   "cell_type": "code",
   "execution_count": 31,
   "id": "e5da9129-1b52-4599-9514-abaff230b435",
   "metadata": {},
   "outputs": [
    {
     "data": {
      "text/plain": [
       "LinearRegression()"
      ]
     },
     "execution_count": 31,
     "metadata": {},
     "output_type": "execute_result"
    }
   ],
   "source": [
    "regressor.fit(x_poly,y)"
   ]
  },
  {
   "cell_type": "code",
   "execution_count": 32,
   "id": "bd543482-ecb5-4bbc-8d5f-f1ca7b7d5237",
   "metadata": {},
   "outputs": [],
   "source": [
    "y_pred=regressor.predict(x_poly)"
   ]
  },
  {
   "cell_type": "code",
   "execution_count": 33,
   "id": "24c91727-87c9-4dee-94ba-7ebcd68559fe",
   "metadata": {},
   "outputs": [
    {
     "data": {
      "text/plain": [
       "<matplotlib.collections.PathCollection at 0x159a7316e50>"
      ]
     },
     "execution_count": 33,
     "metadata": {},
     "output_type": "execute_result"
    },
    {
     "data": {
      "image/png": "[encoded data removed]",
      "text/plain": [
       "<Figure size 432x288 with 1 Axes>"
      ]
     },
     "metadata": {
      "needs_background": "light"
     },
     "output_type": "display_data"
    }
   ],
   "source": [
    "plt.plot(x,y_pred,color='green')\n",
    "plt.scatter(x,y,color='red')"
   ]
  },
  {
   "cell_type": "code",
   "execution_count": 34,
   "id": "a4ba1f93-13f8-42f0-8d1a-d8e305dc3bcd",
   "metadata": {},
   "outputs": [],
   "source": [
    "from sklearn.model_selection import train_test_split"
   ]
  },
  {
   "cell_type": "code",
   "execution_count": 35,
   "id": "6999b964-250c-4a90-86d5-c3425de51ef0",
   "metadata": {},
   "outputs": [],
   "source": [
    "x_train,x_test,y_train,y_test=train_test_split(x,y,test_size=0.2,random_state=1)"
   ]
  },
  {
   "cell_type": "code",
   "execution_count": 36,
   "id": "cf31ff7f-ea08-42a1-980c-5468bf34ec54",
   "metadata": {},
   "outputs": [
    {
     "data": {
      "text/plain": [
       "LinearRegression()"
      ]
     },
     "execution_count": 36,
     "metadata": {},
     "output_type": "execute_result"
    }
   ],
   "source": [
    "from sklearn.linear_model import LinearRegression\n",
    "regressor=LinearRegression()\n",
    "regressor.fit(x_train,y_train)"
   ]
  },
  {
   "cell_type": "code",
   "execution_count": 37,
   "id": "ec3c4da2-5b40-4ddc-9df6-2bd11472894e",
   "metadata": {},
   "outputs": [],
   "source": [
    "y_pred=regressor.predict(x_test)"
   ]
  },
  {
   "cell_type": "code",
   "execution_count": 38,
   "id": "ce13d652-939c-45b1-8d96-258b700530fd",
   "metadata": {},
   "outputs": [
    {
     "data": {
      "text/plain": [
       "[<matplotlib.lines.Line2D at 0x159a7378610>]"
      ]
     },
     "execution_count": 38,
     "metadata": {},
     "output_type": "execute_result"
    },
    {
     "data": {
      "image/png": "[encoded data removed]",
      "text/plain": [
       "<Figure size 432x288 with 1 Axes>"
      ]
     },
     "metadata": {
      "needs_background": "light"
     },
     "output_type": "display_data"
    }
   ],
   "source": [
    "plt.scatter(x_test,y_test,color='red')\n",
    "plt.scatter(x_train,y_train,color='green')\n",
    "plt.plot(x_test,y_pred,color='blue')"
   ]
  },
  {
   "cell_type": "code",
   "execution_count": null,
   "id": "3213b3eb-64d8-4f80-b6f3-4a5479e28e12",
   "metadata": {},
   "outputs": [],
   "source": []
  }
 ],
 "metadata": {
  "kernelspec": {
   "display_name": "Python 3",
   "language": "python",
   "name": "python3"
  },
  "language_info": {
   "codemirror_mode": {
    "name": "ipython",
    "version": 3
   },
   "file_extension": ".py",
   "mimetype": "text/x-python",
   "name": "python",
   "nbconvert_exporter": "python",
   "pygments_lexer": "ipython3",
   "version": "3.8.8"
  }
 },
 "nbformat": 4,
 "nbformat_minor": 5
}
