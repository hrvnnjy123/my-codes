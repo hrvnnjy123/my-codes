{
 "cells": [
  {
   "cell_type": "code",
   "execution_count": 1,
   "id": "8763b14a-b096-4540-9863-bb4fbfd9ecd9",
   "metadata": {},
   "outputs": [],
   "source": [
    "x=[1,2,3,4]"
   ]
  },
  {
   "cell_type": "code",
   "execution_count": 2,
   "id": "ba696a7f-df18-4f95-b1c3-b5363f08a6ac",
   "metadata": {},
   "outputs": [
    {
     "data": {
      "text/plain": [
       "2"
      ]
     },
     "execution_count": 2,
     "metadata": {},
     "output_type": "execute_result"
    }
   ],
   "source": [
    "x[1]"
   ]
  },
  {
   "cell_type": "code",
   "execution_count": 3,
   "id": "b67f9fe1-12da-461d-959e-1597e0196d32",
   "metadata": {},
   "outputs": [
    {
     "data": {
      "text/plain": [
       "1"
      ]
     },
     "execution_count": 3,
     "metadata": {},
     "output_type": "execute_result"
    }
   ],
   "source": [
    "x[0]"
   ]
  },
  {
   "cell_type": "code",
   "execution_count": 4,
   "id": "8d4dfe7f-52e1-46a8-af1f-5a18bb745e6c",
   "metadata": {},
   "outputs": [],
   "source": [
    "x=[\"Shravan\",\"Sanjay\",\"Kochi\",19]"
   ]
  },
  {
   "cell_type": "code",
   "execution_count": 5,
   "id": "2e306b0b-6e07-4c1e-b7a6-25a818fa7895",
   "metadata": {},
   "outputs": [
    {
     "data": {
      "text/plain": [
       "'Shravan'"
      ]
     },
     "execution_count": 5,
     "metadata": {},
     "output_type": "execute_result"
    }
   ],
   "source": [
    "x[0]"
   ]
  },
  {
   "cell_type": "code",
   "execution_count": 6,
   "id": "9fb0aeb8-f852-43cd-853c-547e6a722363",
   "metadata": {},
   "outputs": [
    {
     "data": {
      "text/plain": [
       "19"
      ]
     },
     "execution_count": 6,
     "metadata": {},
     "output_type": "execute_result"
    }
   ],
   "source": [
    "x[3]"
   ]
  },
  {
   "cell_type": "code",
   "execution_count": 7,
   "id": "4be9af70-5cdd-44a9-814f-7894f53bc94f",
   "metadata": {},
   "outputs": [
    {
     "data": {
      "text/plain": [
       "19"
      ]
     },
     "execution_count": 7,
     "metadata": {},
     "output_type": "execute_result"
    }
   ],
   "source": [
    "x[-1]"
   ]
  },
  {
   "cell_type": "code",
   "execution_count": 8,
   "id": "29995936-bb8b-447e-aae3-2a5f7195af65",
   "metadata": {},
   "outputs": [],
   "source": [
    "x[-1]=2002"
   ]
  },
  {
   "cell_type": "code",
   "execution_count": 9,
   "id": "e8d1359c-49d9-4b82-a206-91e90d072d2d",
   "metadata": {},
   "outputs": [
    {
     "data": {
      "text/plain": [
       "['Shravan', 'Sanjay', 'Kochi', 2002]"
      ]
     },
     "execution_count": 9,
     "metadata": {},
     "output_type": "execute_result"
    }
   ],
   "source": [
    "x"
   ]
  },
  {
   "cell_type": "code",
   "execution_count": 10,
   "id": "14dc1c72-b956-441d-b4f0-d917120e853a",
   "metadata": {},
   "outputs": [
    {
     "name": "stdout",
     "output_type": "stream",
     "text": [
      "Value of x= 0\n",
      "Value of x= 1\n",
      "Value of x= 2\n",
      "Value of x= 3\n",
      "Value of x= 4\n",
      "Value of x= 5\n",
      "Value of x= 6\n",
      "Value of x= 7\n",
      "Value of x= 8\n",
      "Value of x= 9\n"
     ]
    }
   ],
   "source": [
    "x=0\n",
    "while x<10:\n",
    "    print(\"Value of x=\",x)\n",
    "    x=x+1"
   ]
  },
  {
   "cell_type": "code",
   "execution_count": 16,
   "id": "d7c96714-6f80-4638-86a3-2c3a3f48834b",
   "metadata": {},
   "outputs": [
    {
     "name": "stdout",
     "output_type": "stream",
     "text": [
      "5050\n"
     ]
    }
   ],
   "source": [
    "x=0\n",
    "total=0\n",
    "while x<=100:\n",
    "    total=total+x\n",
    "    x=x+1\n",
    "print(total)"
   ]
  },
  {
   "cell_type": "code",
   "execution_count": 12,
   "id": "392995ee-2e6c-4836-a8b7-2ee3b98ecd3b",
   "metadata": {},
   "outputs": [
    {
     "name": "stdin",
     "output_type": "stream",
     "text": [
      "Enter a number: 5\n"
     ]
    },
    {
     "name": "stdout",
     "output_type": "stream",
     "text": [
      "120\n"
     ]
    }
   ],
   "source": [
    "z=int(input(\"Enter a number:\"))\n",
    "total=1\n",
    "x=1\n",
    "while x<=z:\n",
    "    total=total*x\n",
    "    x=x+1\n",
    "print(total)"
   ]
  },
  {
   "cell_type": "code",
   "execution_count": 15,
   "id": "5e6802fe-1608-445d-9600-11b540870314",
   "metadata": {},
   "outputs": [
    {
     "name": "stdin",
     "output_type": "stream",
     "text": [
      "Enter a number: 100\n"
     ]
    },
    {
     "name": "stdout",
     "output_type": "stream",
     "text": [
      "2550\n"
     ]
    }
   ],
   "source": [
    "z=int(input(\"Enter a number:\"))\n",
    "total=0\n",
    "x=2\n",
    "while x<=z:\n",
    "    total=total+x\n",
    "    x=x+2\n",
    "print(total)"
   ]
  },
  {
   "cell_type": "code",
   "execution_count": 17,
   "id": "8fcc52fd-0100-47b8-81fc-eb48d708b90d",
   "metadata": {},
   "outputs": [
    {
     "name": "stdout",
     "output_type": "stream",
     "text": [
      "1050\n"
     ]
    }
   ],
   "source": [
    "x=0\n",
    "total=0\n",
    "while x<=100:\n",
    "    total=total+x\n",
    "    x=x+5\n",
    "print(total)\n",
    "    \n"
   ]
  },
  {
   "cell_type": "code",
   "execution_count": 18,
   "id": "a41f6485-358d-473e-8cff-7b3f60fc622e",
   "metadata": {},
   "outputs": [
    {
     "data": {
      "text/plain": [
       "0"
      ]
     },
     "execution_count": 18,
     "metadata": {},
     "output_type": "execute_result"
    }
   ],
   "source": [
    "10%5"
   ]
  },
  {
   "cell_type": "code",
   "execution_count": 19,
   "id": "b5d336ca-5a61-473c-a66c-61a1da410301",
   "metadata": {},
   "outputs": [
    {
     "data": {
      "text/plain": [
       "2"
      ]
     },
     "execution_count": 19,
     "metadata": {},
     "output_type": "execute_result"
    }
   ],
   "source": [
    "12%5"
   ]
  },
  {
   "cell_type": "code",
   "execution_count": 20,
   "id": "4ce38779-ea5a-4ac4-a4f3-fa3cf3d2f681",
   "metadata": {},
   "outputs": [
    {
     "data": {
      "text/plain": [
       "3"
      ]
     },
     "execution_count": 20,
     "metadata": {},
     "output_type": "execute_result"
    }
   ],
   "source": [
    "53%5"
   ]
  },
  {
   "cell_type": "code",
   "execution_count": 26,
   "id": "d4a4aa2a-1752-40f6-b358-4c2b409e3e99",
   "metadata": {},
   "outputs": [
    {
     "name": "stdout",
     "output_type": "stream",
     "text": [
      "1050\n"
     ]
    }
   ],
   "source": [
    "x=0\n",
    "total=0\n",
    "while x<=100:\n",
    "    if x%5==0:\n",
    "        total=total+x\n",
    "        x=x+5\n",
    "print(total)"
   ]
  },
  {
   "cell_type": "code",
   "execution_count": 27,
   "id": "2e6480d3-b430-4329-b91d-fa04a9f650da",
   "metadata": {},
   "outputs": [
    {
     "name": "stdout",
     "output_type": "stream",
     "text": [
      "0\n",
      "1\n",
      "2\n",
      "3\n",
      "4\n",
      "5\n",
      "6\n",
      "7\n",
      "8\n",
      "9\n",
      "10\n",
      "11\n",
      "12\n",
      "13\n",
      "14\n",
      "15\n",
      "16\n",
      "17\n",
      "18\n",
      "19\n",
      "20\n",
      "21\n",
      "22\n",
      "23\n",
      "24\n",
      "25\n",
      "26\n",
      "27\n",
      "28\n",
      "29\n",
      "30\n",
      "31\n",
      "32\n",
      "33\n",
      "34\n",
      "35\n",
      "36\n",
      "37\n",
      "38\n",
      "39\n",
      "40\n",
      "41\n",
      "42\n",
      "43\n",
      "44\n",
      "45\n",
      "46\n",
      "47\n",
      "48\n",
      "49\n",
      "50\n",
      "51\n",
      "52\n",
      "53\n",
      "54\n",
      "55\n",
      "56\n",
      "57\n",
      "58\n",
      "59\n",
      "60\n",
      "61\n",
      "62\n",
      "63\n",
      "64\n",
      "65\n",
      "66\n",
      "67\n",
      "68\n",
      "69\n",
      "70\n",
      "71\n",
      "72\n",
      "73\n",
      "74\n",
      "75\n",
      "76\n",
      "77\n",
      "78\n",
      "79\n",
      "80\n",
      "81\n",
      "82\n",
      "83\n",
      "84\n",
      "85\n",
      "86\n",
      "87\n",
      "88\n",
      "89\n",
      "90\n",
      "91\n",
      "92\n",
      "93\n",
      "94\n",
      "95\n",
      "96\n",
      "97\n",
      "98\n",
      "99\n"
     ]
    }
   ],
   "source": [
    "for x in range(100):\n",
    "    print(x)"
   ]
  },
  {
   "cell_type": "code",
   "execution_count": 36,
   "id": "62678034-baa2-4b41-8823-3223491f8f6c",
   "metadata": {},
   "outputs": [
    {
     "name": "stdout",
     "output_type": "stream",
     "text": [
      "5050\n"
     ]
    }
   ],
   "source": [
    "total=0\n",
    "for x in range(101):\n",
    "    total=total+x\n",
    "print(total)"
   ]
  },
  {
   "cell_type": "code",
   "execution_count": 45,
   "id": "82a66e14-7ddb-4992-bf52-0ad6e52e9557",
   "metadata": {},
   "outputs": [
    {
     "name": "stdin",
     "output_type": "stream",
     "text": [
      "Enter a number: 5\n"
     ]
    },
    {
     "name": "stdout",
     "output_type": "stream",
     "text": [
      "120\n"
     ]
    }
   ],
   "source": [
    "z=int(input(\"Enter a number:\"))\n",
    "total=1\n",
    "x=1\n",
    "for x in range(1,z+1):\n",
    "    total=total*x\n",
    "    x=x-1\n",
    "print(total)"
   ]
  },
  {
   "cell_type": "code",
   "execution_count": null,
   "id": "544c41e0-ea03-49df-abf1-d5176f129a75",
   "metadata": {},
   "outputs": [],
   "source": []
  }
 ],
 "metadata": {
  "kernelspec": {
   "display_name": "Python 3",
   "language": "python",
   "name": "python3"
  },
  "language_info": {
   "codemirror_mode": {
    "name": "ipython",
    "version": 3
   },
   "file_extension": ".py",
   "mimetype": "text/x-python",
   "name": "python",
   "nbconvert_exporter": "python",
   "pygments_lexer": "ipython3",
   "version": "3.8.8"
  }
 },
 "nbformat": 4,
 "nbformat_minor": 5
}
