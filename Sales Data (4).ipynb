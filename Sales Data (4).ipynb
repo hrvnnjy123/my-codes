{
 "cells": [
  {
   "cell_type": "code",
   "execution_count": 1,
   "id": "ea42c338-c2cf-497e-9633-5500bde92409",
   "metadata": {},
   "outputs": [],
   "source": [
    "import pandas as pd\n",
    "import matplotlib.pyplot as plt"
   ]
  },
  {
   "cell_type": "code",
   "execution_count": 2,
   "id": "5a01486d-eae4-4ab3-810b-b1956e11f161",
   "metadata": {},
   "outputs": [
    {
     "data": {
      "text/html": [
       "<div>\n",
       "<style scoped>\n",
       "    .dataframe tbody tr th:only-of-type {\n",
       "        vertical-align: middle;\n",
       "    }\n",
       "\n",
       "    .dataframe tbody tr th {\n",
       "        vertical-align: top;\n",
       "    }\n",
       "\n",
       "    .dataframe thead th {\n",
       "        text-align: right;\n",
       "    }\n",
       "</style>\n",
       "<table border=\"1\" class=\"dataframe\">\n",
       "  <thead>\n",
       "    <tr style=\"text-align: right;\">\n",
       "      <th></th>\n",
       "      <th>No</th>\n",
       "      <th>InvoiceID</th>\n",
       "      <th>Branch</th>\n",
       "      <th>City</th>\n",
       "      <th>Customertype</th>\n",
       "      <th>Gender</th>\n",
       "      <th>Productline</th>\n",
       "      <th>Unitprice</th>\n",
       "      <th>Quantity</th>\n",
       "      <th>Tax</th>\n",
       "      <th>Total</th>\n",
       "      <th>Date</th>\n",
       "      <th>Time</th>\n",
       "      <th>Payment</th>\n",
       "      <th>cogs</th>\n",
       "      <th>gross_margin_percentage</th>\n",
       "      <th>gross_iincome</th>\n",
       "      <th>Rating</th>\n",
       "    </tr>\n",
       "  </thead>\n",
       "  <tbody>\n",
       "    <tr>\n",
       "      <th>0</th>\n",
       "      <td>1</td>\n",
       "      <td>750-67-8428</td>\n",
       "      <td>A</td>\n",
       "      <td>Yangon</td>\n",
       "      <td>Member</td>\n",
       "      <td>Female</td>\n",
       "      <td>Health and beauty</td>\n",
       "      <td>74.69</td>\n",
       "      <td>7</td>\n",
       "      <td>26.1415</td>\n",
       "      <td>548.9715</td>\n",
       "      <td>1/5/2019</td>\n",
       "      <td>13:08</td>\n",
       "      <td>Ewallet</td>\n",
       "      <td>522.83</td>\n",
       "      <td>4.761905</td>\n",
       "      <td>26.1415</td>\n",
       "      <td>9.1</td>\n",
       "    </tr>\n",
       "    <tr>\n",
       "      <th>1</th>\n",
       "      <td>2</td>\n",
       "      <td>226-31-3081</td>\n",
       "      <td>C</td>\n",
       "      <td>Naypyitaw</td>\n",
       "      <td>Normal</td>\n",
       "      <td>Female</td>\n",
       "      <td>Electronic accessories</td>\n",
       "      <td>15.28</td>\n",
       "      <td>5</td>\n",
       "      <td>3.8200</td>\n",
       "      <td>80.2200</td>\n",
       "      <td>3/8/2019</td>\n",
       "      <td>10:29</td>\n",
       "      <td>Cash</td>\n",
       "      <td>76.40</td>\n",
       "      <td>4.761905</td>\n",
       "      <td>3.8200</td>\n",
       "      <td>9.6</td>\n",
       "    </tr>\n",
       "    <tr>\n",
       "      <th>2</th>\n",
       "      <td>3</td>\n",
       "      <td>631-41-3108</td>\n",
       "      <td>A</td>\n",
       "      <td>Yangon</td>\n",
       "      <td>Normal</td>\n",
       "      <td>Male</td>\n",
       "      <td>Home and lifestyle</td>\n",
       "      <td>46.33</td>\n",
       "      <td>7</td>\n",
       "      <td>16.2155</td>\n",
       "      <td>340.5255</td>\n",
       "      <td>3/3/2019</td>\n",
       "      <td>13:23</td>\n",
       "      <td>Credit card</td>\n",
       "      <td>324.31</td>\n",
       "      <td>4.761905</td>\n",
       "      <td>16.2155</td>\n",
       "      <td>7.4</td>\n",
       "    </tr>\n",
       "    <tr>\n",
       "      <th>3</th>\n",
       "      <td>4</td>\n",
       "      <td>123-19-1176</td>\n",
       "      <td>A</td>\n",
       "      <td>Yangon</td>\n",
       "      <td>Member</td>\n",
       "      <td>Male</td>\n",
       "      <td>Health and beauty</td>\n",
       "      <td>58.22</td>\n",
       "      <td>8</td>\n",
       "      <td>23.2880</td>\n",
       "      <td>489.0480</td>\n",
       "      <td>1/27/2019</td>\n",
       "      <td>20:33</td>\n",
       "      <td>Ewallet</td>\n",
       "      <td>465.76</td>\n",
       "      <td>4.761905</td>\n",
       "      <td>23.2880</td>\n",
       "      <td>8.4</td>\n",
       "    </tr>\n",
       "    <tr>\n",
       "      <th>4</th>\n",
       "      <td>5</td>\n",
       "      <td>373-73-7910</td>\n",
       "      <td>A</td>\n",
       "      <td>Yangon</td>\n",
       "      <td>Normal</td>\n",
       "      <td>Male</td>\n",
       "      <td>Sports and travel</td>\n",
       "      <td>86.31</td>\n",
       "      <td>7</td>\n",
       "      <td>30.2085</td>\n",
       "      <td>634.3785</td>\n",
       "      <td>2/8/2019</td>\n",
       "      <td>10:37</td>\n",
       "      <td>Ewallet</td>\n",
       "      <td>604.17</td>\n",
       "      <td>4.761905</td>\n",
       "      <td>30.2085</td>\n",
       "      <td>5.3</td>\n",
       "    </tr>\n",
       "    <tr>\n",
       "      <th>...</th>\n",
       "      <td>...</td>\n",
       "      <td>...</td>\n",
       "      <td>...</td>\n",
       "      <td>...</td>\n",
       "      <td>...</td>\n",
       "      <td>...</td>\n",
       "      <td>...</td>\n",
       "      <td>...</td>\n",
       "      <td>...</td>\n",
       "      <td>...</td>\n",
       "      <td>...</td>\n",
       "      <td>...</td>\n",
       "      <td>...</td>\n",
       "      <td>...</td>\n",
       "      <td>...</td>\n",
       "      <td>...</td>\n",
       "      <td>...</td>\n",
       "      <td>...</td>\n",
       "    </tr>\n",
       "    <tr>\n",
       "      <th>995</th>\n",
       "      <td>996</td>\n",
       "      <td>233-67-5758</td>\n",
       "      <td>C</td>\n",
       "      <td>Naypyitaw</td>\n",
       "      <td>Normal</td>\n",
       "      <td>Male</td>\n",
       "      <td>Health and beauty</td>\n",
       "      <td>40.35</td>\n",
       "      <td>1</td>\n",
       "      <td>2.0175</td>\n",
       "      <td>42.3675</td>\n",
       "      <td>1/29/2019</td>\n",
       "      <td>13:46</td>\n",
       "      <td>Ewallet</td>\n",
       "      <td>40.35</td>\n",
       "      <td>4.761905</td>\n",
       "      <td>2.0175</td>\n",
       "      <td>6.2</td>\n",
       "    </tr>\n",
       "    <tr>\n",
       "      <th>996</th>\n",
       "      <td>997</td>\n",
       "      <td>303-96-2227</td>\n",
       "      <td>B</td>\n",
       "      <td>Mandalay</td>\n",
       "      <td>Normal</td>\n",
       "      <td>Female</td>\n",
       "      <td>Home and lifestyle</td>\n",
       "      <td>97.38</td>\n",
       "      <td>10</td>\n",
       "      <td>48.6900</td>\n",
       "      <td>1022.4900</td>\n",
       "      <td>3/2/2019</td>\n",
       "      <td>17:16</td>\n",
       "      <td>Ewallet</td>\n",
       "      <td>973.80</td>\n",
       "      <td>4.761905</td>\n",
       "      <td>48.6900</td>\n",
       "      <td>4.4</td>\n",
       "    </tr>\n",
       "    <tr>\n",
       "      <th>997</th>\n",
       "      <td>998</td>\n",
       "      <td>727-02-1313</td>\n",
       "      <td>A</td>\n",
       "      <td>Yangon</td>\n",
       "      <td>Member</td>\n",
       "      <td>Male</td>\n",
       "      <td>Food and beverages</td>\n",
       "      <td>31.84</td>\n",
       "      <td>1</td>\n",
       "      <td>1.5920</td>\n",
       "      <td>33.4320</td>\n",
       "      <td>2/9/2019</td>\n",
       "      <td>13:22</td>\n",
       "      <td>Cash</td>\n",
       "      <td>31.84</td>\n",
       "      <td>4.761905</td>\n",
       "      <td>1.5920</td>\n",
       "      <td>7.7</td>\n",
       "    </tr>\n",
       "    <tr>\n",
       "      <th>998</th>\n",
       "      <td>999</td>\n",
       "      <td>347-56-2442</td>\n",
       "      <td>A</td>\n",
       "      <td>Yangon</td>\n",
       "      <td>Normal</td>\n",
       "      <td>Male</td>\n",
       "      <td>Home and lifestyle</td>\n",
       "      <td>65.82</td>\n",
       "      <td>1</td>\n",
       "      <td>3.2910</td>\n",
       "      <td>69.1110</td>\n",
       "      <td>2/22/2019</td>\n",
       "      <td>15:33</td>\n",
       "      <td>Cash</td>\n",
       "      <td>65.82</td>\n",
       "      <td>4.761905</td>\n",
       "      <td>3.2910</td>\n",
       "      <td>4.1</td>\n",
       "    </tr>\n",
       "    <tr>\n",
       "      <th>999</th>\n",
       "      <td>1000</td>\n",
       "      <td>849-09-3807</td>\n",
       "      <td>A</td>\n",
       "      <td>Yangon</td>\n",
       "      <td>Member</td>\n",
       "      <td>Female</td>\n",
       "      <td>Fashion accessories</td>\n",
       "      <td>88.34</td>\n",
       "      <td>7</td>\n",
       "      <td>30.9190</td>\n",
       "      <td>649.2990</td>\n",
       "      <td>2/18/2019</td>\n",
       "      <td>13:28</td>\n",
       "      <td>Cash</td>\n",
       "      <td>618.38</td>\n",
       "      <td>4.761905</td>\n",
       "      <td>30.9190</td>\n",
       "      <td>6.6</td>\n",
       "    </tr>\n",
       "  </tbody>\n",
       "</table>\n",
       "<p>1000 rows × 18 columns</p>\n",
       "</div>"
      ],
      "text/plain": [
       "       No    InvoiceID Branch       City Customertype  Gender  \\\n",
       "0       1  750-67-8428      A     Yangon       Member  Female   \n",
       "1       2  226-31-3081      C  Naypyitaw       Normal  Female   \n",
       "2       3  631-41-3108      A     Yangon       Normal    Male   \n",
       "3       4  123-19-1176      A     Yangon       Member    Male   \n",
       "4       5  373-73-7910      A     Yangon       Normal    Male   \n",
       "..    ...          ...    ...        ...          ...     ...   \n",
       "995   996  233-67-5758      C  Naypyitaw       Normal    Male   \n",
       "996   997  303-96-2227      B   Mandalay       Normal  Female   \n",
       "997   998  727-02-1313      A     Yangon       Member    Male   \n",
       "998   999  347-56-2442      A     Yangon       Normal    Male   \n",
       "999  1000  849-09-3807      A     Yangon       Member  Female   \n",
       "\n",
       "                Productline  Unitprice  Quantity      Tax      Total  \\\n",
       "0         Health and beauty      74.69         7  26.1415   548.9715   \n",
       "1    Electronic accessories      15.28         5   3.8200    80.2200   \n",
       "2        Home and lifestyle      46.33         7  16.2155   340.5255   \n",
       "3         Health and beauty      58.22         8  23.2880   489.0480   \n",
       "4         Sports and travel      86.31         7  30.2085   634.3785   \n",
       "..                      ...        ...       ...      ...        ...   \n",
       "995       Health and beauty      40.35         1   2.0175    42.3675   \n",
       "996      Home and lifestyle      97.38        10  48.6900  1022.4900   \n",
       "997      Food and beverages      31.84         1   1.5920    33.4320   \n",
       "998      Home and lifestyle      65.82         1   3.2910    69.1110   \n",
       "999     Fashion accessories      88.34         7  30.9190   649.2990   \n",
       "\n",
       "          Date   Time      Payment    cogs  gross_margin_percentage  \\\n",
       "0     1/5/2019  13:08      Ewallet  522.83                 4.761905   \n",
       "1     3/8/2019  10:29         Cash   76.40                 4.761905   \n",
       "2     3/3/2019  13:23  Credit card  324.31                 4.761905   \n",
       "3    1/27/2019  20:33      Ewallet  465.76                 4.761905   \n",
       "4     2/8/2019  10:37      Ewallet  604.17                 4.761905   \n",
       "..         ...    ...          ...     ...                      ...   \n",
       "995  1/29/2019  13:46      Ewallet   40.35                 4.761905   \n",
       "996   3/2/2019  17:16      Ewallet  973.80                 4.761905   \n",
       "997   2/9/2019  13:22         Cash   31.84                 4.761905   \n",
       "998  2/22/2019  15:33         Cash   65.82                 4.761905   \n",
       "999  2/18/2019  13:28         Cash  618.38                 4.761905   \n",
       "\n",
       "     gross_iincome  Rating  \n",
       "0          26.1415     9.1  \n",
       "1           3.8200     9.6  \n",
       "2          16.2155     7.4  \n",
       "3          23.2880     8.4  \n",
       "4          30.2085     5.3  \n",
       "..             ...     ...  \n",
       "995         2.0175     6.2  \n",
       "996        48.6900     4.4  \n",
       "997         1.5920     7.7  \n",
       "998         3.2910     4.1  \n",
       "999        30.9190     6.6  \n",
       "\n",
       "[1000 rows x 18 columns]"
      ]
     },
     "execution_count": 2,
     "metadata": {},
     "output_type": "execute_result"
    }
   ],
   "source": [
    "x=pd.read_csv(\"Supermarket.csv\")\n",
    "x"
   ]
  },
  {
   "cell_type": "code",
   "execution_count": 3,
   "id": "e859d062-7999-4edd-9136-0ea5e59f31b0",
   "metadata": {},
   "outputs": [
    {
     "data": {
      "text/plain": [
       "15.28"
      ]
     },
     "execution_count": 3,
     "metadata": {},
     "output_type": "execute_result"
    }
   ],
   "source": [
    "a=x.loc[1,\"Unitprice\"]\n",
    "a"
   ]
  },
  {
   "cell_type": "code",
   "execution_count": 4,
   "id": "e77b70e2-52ee-4a31-b0f8-e94b7fc87ae5",
   "metadata": {},
   "outputs": [
    {
     "data": {
      "text/plain": [
       "99.96"
      ]
     },
     "execution_count": 4,
     "metadata": {},
     "output_type": "execute_result"
    }
   ],
   "source": [
    "new_data=[]\n",
    "for y in x.index:\n",
    "    new_data.append(x.loc[y,\"Unitprice\"])\n",
    "max(new_data)"
   ]
  },
  {
   "cell_type": "code",
   "execution_count": 5,
   "id": "898e1c85-a78b-4042-979c-1930bdce01df",
   "metadata": {},
   "outputs": [
    {
     "data": {
      "text/plain": [
       "10.08"
      ]
     },
     "execution_count": 5,
     "metadata": {},
     "output_type": "execute_result"
    }
   ],
   "source": [
    "new_data=[]\n",
    "for y in x.index:\n",
    "    new_data.append(x.loc[y,\"Unitprice\"])\n",
    "min(new_data)"
   ]
  },
  {
   "cell_type": "code",
   "execution_count": 6,
   "id": "de50784e-504b-4c16-90ab-845ae061c745",
   "metadata": {},
   "outputs": [
    {
     "data": {
      "text/plain": [
       "55.67212999999998"
      ]
     },
     "execution_count": 6,
     "metadata": {},
     "output_type": "execute_result"
    }
   ],
   "source": [
    "new_data=[]\n",
    "for y in x.index:\n",
    "    new_data.append(x.loc[y,\"Unitprice\"])\n",
    "z=sum(new_data)/len(new_data)\n",
    "z"
   ]
  },
  {
   "cell_type": "code",
   "execution_count": 7,
   "id": "eafbdf7f-bb68-491f-8dcb-bb5d1188a966",
   "metadata": {},
   "outputs": [
    {
     "data": {
      "text/plain": [
       "10"
      ]
     },
     "execution_count": 7,
     "metadata": {},
     "output_type": "execute_result"
    }
   ],
   "source": [
    "new_data=[]\n",
    "for y in x.index:\n",
    "    new_data.append(x.loc[y,\"Quantity\"])\n",
    "max(new_data)"
   ]
  },
  {
   "cell_type": "code",
   "execution_count": 8,
   "id": "35480cea-373f-4d07-a763-be3f6a7ed901",
   "metadata": {},
   "outputs": [
    {
     "data": {
      "text/plain": [
       "1"
      ]
     },
     "execution_count": 8,
     "metadata": {},
     "output_type": "execute_result"
    }
   ],
   "source": [
    "new_data=[]\n",
    "for y in x.index:\n",
    "    new_data.append(x.loc[y,\"Quantity\"])\n",
    "min(new_data)"
   ]
  },
  {
   "cell_type": "code",
   "execution_count": 9,
   "id": "035da670-2c87-48af-bb1c-27e6a4f223a3",
   "metadata": {},
   "outputs": [
    {
     "data": {
      "text/plain": [
       "5.51"
      ]
     },
     "execution_count": 9,
     "metadata": {},
     "output_type": "execute_result"
    }
   ],
   "source": [
    "new_data=[]\n",
    "for y in x.index:\n",
    "    new_data.append(x.loc[y,\"Quantity\"])\n",
    "z=sum(new_data)/len(new_data)\n",
    "z"
   ]
  },
  {
   "cell_type": "code",
   "execution_count": 10,
   "id": "03bd2bf2-a747-4cb0-a1cd-2a331ba5eeb6",
   "metadata": {},
   "outputs": [
    {
     "data": {
      "text/plain": [
       "10"
      ]
     },
     "execution_count": 10,
     "metadata": {},
     "output_type": "execute_result"
    }
   ],
   "source": [
    "new_data=[]\n",
    "for y in x.index:\n",
    "    if (x.loc[y,\"Productline\"]==\"Health and beauty\"):\n",
    "        new_data.append(x.loc[y,\"Quantity\"])\n",
    "max(new_data)"
   ]
  },
  {
   "cell_type": "code",
   "execution_count": 11,
   "id": "8328b826-3b8d-4582-8090-7a4b8059c6a2",
   "metadata": {},
   "outputs": [
    {
     "data": {
      "text/plain": [
       "10"
      ]
     },
     "execution_count": 11,
     "metadata": {},
     "output_type": "execute_result"
    }
   ],
   "source": [
    "new_data=[]\n",
    "for y in x.index:\n",
    "    if (x.loc[y,\"Productline\"]==\"Health and beauty\"):\n",
    "        new_data.append(x.loc[y,\"Quantity\"])\n",
    "max(new_data)"
   ]
  },
  {
   "cell_type": "code",
   "execution_count": 12,
   "id": "fa7c8053-a183-4155-a0f5-cb0efcc277c5",
   "metadata": {},
   "outputs": [
    {
     "data": {
      "text/plain": [
       "10.08"
      ]
     },
     "execution_count": 12,
     "metadata": {},
     "output_type": "execute_result"
    }
   ],
   "source": [
    "new_data=[]\n",
    "for y in x.index:\n",
    "    if (x.loc[y,\"Productline\"]==\"Health and beauty\"):\n",
    "        new_data.append(x.loc[y,\"Unitprice\"])\n",
    "min(new_data)"
   ]
  },
  {
   "cell_type": "code",
   "execution_count": 13,
   "id": "ed108864-582f-40dc-8c37-95e8a4b22f67",
   "metadata": {},
   "outputs": [
    {
     "data": {
      "text/plain": [
       "5.618421052631579"
      ]
     },
     "execution_count": 13,
     "metadata": {},
     "output_type": "execute_result"
    }
   ],
   "source": [
    "new_data=[]\n",
    "for y in x.index:\n",
    "    if (x.loc[y,\"Productline\"]==\"Health and beauty\"):\n",
    "        new_data.append(x.loc[y,\"Quantity\"])\n",
    "z=sum(new_data)/len(new_data)\n",
    "z"
   ]
  },
  {
   "cell_type": "code",
   "execution_count": 14,
   "id": "f28312fe-c516-4260-b64a-9df34eba940c",
   "metadata": {},
   "outputs": [
    {
     "data": {
      "text/plain": [
       "54.85447368421053"
      ]
     },
     "execution_count": 14,
     "metadata": {},
     "output_type": "execute_result"
    }
   ],
   "source": [
    "new_data=[]\n",
    "for y in x.index:\n",
    "    if (x.loc[y,\"Productline\"]==\"Health and beauty\"):\n",
    "        new_data.append(x.loc[y,\"Unitprice\"])\n",
    "z=sum(new_data)/len(new_data)\n",
    "z\n",
    "\n"
   ]
  },
  {
   "cell_type": "code",
   "execution_count": 15,
   "id": "0d0f5dd9-a7e5-4b16-9b4c-697237162216",
   "metadata": {},
   "outputs": [
    {
     "data": {
      "text/plain": [
       "10.08"
      ]
     },
     "execution_count": 15,
     "metadata": {},
     "output_type": "execute_result"
    }
   ],
   "source": [
    "min(new_data)"
   ]
  },
  {
   "cell_type": "code",
   "execution_count": 16,
   "id": "e81f4903-42b1-4ea7-b047-7cc2c0d475e1",
   "metadata": {},
   "outputs": [
    {
     "data": {
      "text/plain": [
       "99.96"
      ]
     },
     "execution_count": 16,
     "metadata": {},
     "output_type": "execute_result"
    }
   ],
   "source": [
    "max(new_data)"
   ]
  },
  {
   "cell_type": "code",
   "execution_count": 17,
   "id": "043f7ea2-12c5-4b24-a2b1-57abbdc00ea5",
   "metadata": {},
   "outputs": [
    {
     "data": {
      "text/plain": [
       "99.73"
      ]
     },
     "execution_count": 17,
     "metadata": {},
     "output_type": "execute_result"
    }
   ],
   "source": [
    "new_data=[]\n",
    "for y in x.index:\n",
    "    if (x.loc[y,\"Productline\"]==\"Electronic accessories\"):\n",
    "        new_data.append(x.loc[y,\"Unitprice\"])\n",
    "max(new_data)"
   ]
  },
  {
   "cell_type": "code",
   "execution_count": 18,
   "id": "87b95605-7c55-4258-a2f8-453f3c73c05b",
   "metadata": {},
   "outputs": [
    {
     "data": {
      "text/plain": [
       "10.56"
      ]
     },
     "execution_count": 18,
     "metadata": {},
     "output_type": "execute_result"
    }
   ],
   "source": [
    "new_data=[]\n",
    "for y in x.index:\n",
    "    if (x.loc[y,\"Productline\"]==\"Electronic accessories\"):\n",
    "        new_data.append(x.loc[y,\"Unitprice\"])\n",
    "min(new_data)"
   ]
  },
  {
   "cell_type": "code",
   "execution_count": 19,
   "id": "a0eadc77-b769-44c2-99c0-b878aa7f286b",
   "metadata": {},
   "outputs": [
    {
     "data": {
      "text/plain": [
       "53.551588235294155"
      ]
     },
     "execution_count": 19,
     "metadata": {},
     "output_type": "execute_result"
    }
   ],
   "source": [
    "new_data=[]\n",
    "for y in x.index:\n",
    "    if (x.loc[y,\"Productline\"]==\"Electronic accessories\"):\n",
    "        new_data.append(x.loc[y,\"Unitprice\"])\n",
    "z=sum(new_data)/len(new_data)\n",
    "z"
   ]
  },
  {
   "cell_type": "code",
   "execution_count": 20,
   "id": "b39987ef-403c-4f09-83d7-f8a85a3629c6",
   "metadata": {},
   "outputs": [
    {
     "data": {
      "text/plain": [
       "10"
      ]
     },
     "execution_count": 20,
     "metadata": {},
     "output_type": "execute_result"
    }
   ],
   "source": [
    "new_data=[]\n",
    "for y in x.index:\n",
    "    if (x.loc[y,\"Productline\"]==\"Health and beauty\"):\n",
    "        new_data.append(x.loc[y,\"Quantity\"])\n",
    "max(new_data)"
   ]
  },
  {
   "cell_type": "code",
   "execution_count": 21,
   "id": "63243ec2-4d17-48b7-93c5-e9cdd60b92ad",
   "metadata": {},
   "outputs": [
    {
     "name": "stdout",
     "output_type": "stream",
     "text": [
      "['829-34-3910', '877-22-3308', '766-85-7061', '280-17-4359', '338-65-2210', '875-46-5808', '157-13-5295', '585-03-5943', '400-45-1220', '725-56-0833', '244-08-0162', '628-90-8624', '188-55-0967', '648-94-3045', '689-05-1884', '607-65-2441', '450-42-3339']\n"
     ]
    }
   ],
   "source": [
    "new_data=[]\n",
    "for y in x.index:\n",
    "    if (x.loc[y,\"Productline\"]==\"Health and beauty\"):\n",
    "        if x.loc[y,\"Quantity\"]==10:\n",
    "            new_data.append(x.loc[y,\"InvoiceID\"])\n",
    "print(new_data)"
   ]
  },
  {
   "cell_type": "code",
   "execution_count": 22,
   "id": "aa238930-e5c4-4020-b751-fdbf5f2dc630",
   "metadata": {},
   "outputs": [
    {
     "data": {
      "text/plain": [
       "88"
      ]
     },
     "execution_count": 22,
     "metadata": {},
     "output_type": "execute_result"
    }
   ],
   "source": [
    "new_data=[]\n",
    "for y in x.index:\n",
    "    if (x.loc[y,\"Productline\"]==\"Health and beauty\"):\n",
    "        if (x.loc[y,\"Gender\"]==\"Male\"):\n",
    "            new_data.append(x.loc[y,\"Quantity\"])\n",
    "            \n",
    "len(new_data)"
   ]
  },
  {
   "cell_type": "code",
   "execution_count": 23,
   "id": "b185a430-7f7b-488b-9dcc-77f354541e0b",
   "metadata": {},
   "outputs": [
    {
     "data": {
      "text/plain": [
       "96"
      ]
     },
     "execution_count": 23,
     "metadata": {},
     "output_type": "execute_result"
    }
   ],
   "source": [
    "new_data=[]\n",
    "for y in x.index:\n",
    "    if (x.loc[y,\"Productline\"]==\"Fashion accessories\"):\n",
    "        if(x.loc[y,\"Gender\"]==\"Female\"):\n",
    "            new_data.append(x.loc[y,\"Quantity\"])\n",
    "len(new_data)\n",
    "        "
   ]
  },
  {
   "cell_type": "code",
   "execution_count": 24,
   "id": "9f96fa2f-04b9-4107-aeeb-c96111e8bb93",
   "metadata": {},
   "outputs": [
    {
     "data": {
      "text/plain": [
       "501"
      ]
     },
     "execution_count": 24,
     "metadata": {},
     "output_type": "execute_result"
    }
   ],
   "source": [
    "new_data=[]\n",
    "for y in x.index:\n",
    "    if (x.loc[y,\"Productline\"]==\"Fashion accessories\" or \"Sports and travel\"):\n",
    "        if(x.loc[y,\"Gender\"]==\"Female\"):\n",
    "            new_data.append(x.loc[y,\"Quantity\"])\n",
    "len(new_data)"
   ]
  },
  {
   "cell_type": "code",
   "execution_count": 25,
   "id": "f0f1553e-7beb-4a9c-b6e4-af9f1e1291f1",
   "metadata": {},
   "outputs": [
    {
     "data": {
      "text/plain": [
       "499"
      ]
     },
     "execution_count": 25,
     "metadata": {},
     "output_type": "execute_result"
    }
   ],
   "source": [
    "new_data=[]\n",
    "for a in x.index:\n",
    "    if x.loc[a,\"Gender\"]==\"Male\":\n",
    "        new_data.append(x.loc[a,\"Quantity\"])\n",
    "len(new_data)"
   ]
  },
  {
   "cell_type": "code",
   "execution_count": 26,
   "id": "433e7163-0c35-4791-86fa-3f3a07e26ac1",
   "metadata": {},
   "outputs": [
    {
     "data": {
      "text/plain": [
       "499"
      ]
     },
     "execution_count": 26,
     "metadata": {},
     "output_type": "execute_result"
    }
   ],
   "source": [
    "mew_data=[]\n",
    "for a in x.index:\n",
    "    if x.loc[a,\"Gender\"]==\"Male\":\n",
    "        mew_data.append(x.loc[a,\"Tax\"])\n",
    "len(mew_data)"
   ]
  },
  {
   "cell_type": "code",
   "execution_count": 27,
   "id": "f79e8b9b-08b6-4503-ad3a-5ea6519a4ddf",
   "metadata": {},
   "outputs": [
    {
     "data": {
      "text/plain": [
       "<matplotlib.collections.PathCollection at 0x1cb82320910>"
      ]
     },
     "execution_count": 27,
     "metadata": {},
     "output_type": "execute_result"
    },
    {
     "data": {
      "image/png": "[encoded data removed]",
      "text/plain": [
       "<Figure size 432x288 with 1 Axes>"
      ]
     },
     "metadata": {
      "needs_background": "light"
     },
     "output_type": "display_data"
    }
   ],
   "source": [
    "plt.scatter(mew_data,new_data)"
   ]
  },
  {
   "cell_type": "markdown",
   "id": "f89bccf0-1b9e-4482-9f12-c4e977a38d17",
   "metadata": {},
   "source": []
  },
  {
   "cell_type": "code",
   "execution_count": 29,
   "id": "84e09b81-2216-4455-bf75-6bec7ac105fe",
   "metadata": {},
   "outputs": [
    {
     "data": {
      "text/plain": [
       "5057.160500000002"
      ]
     },
     "execution_count": 29,
     "metadata": {},
     "output_type": "execute_result"
    }
   ],
   "source": [
    "new_data=[]\n",
    "for a in x.index:\n",
    "    if x.loc[a,\"City\"]==\"Yangon\":\n",
    "        new_data.append(x.loc[a,\"Tax\"])\n",
    "sum(new_data)"
   ]
  },
  {
   "cell_type": "code",
   "execution_count": 31,
   "id": "8ae6c0d3-990b-4e4c-817d-5813eefc465c",
   "metadata": {},
   "outputs": [
    {
     "data": {
      "text/plain": [
       "1859"
      ]
     },
     "execution_count": 31,
     "metadata": {},
     "output_type": "execute_result"
    }
   ],
   "source": [
    "new_data=[]\n",
    "for a in x.index:\n",
    "    if x.loc[a,\"City\"]==\"Yangon\":\n",
    "        new_data.append(x.loc[a,\"Quantity\"])\n",
    "sum(new_data)"
   ]
  },
  {
   "cell_type": "code",
   "execution_count": 32,
   "id": "1b1ea7f1-254a-4e52-8ad0-f8a34561eb15",
   "metadata": {},
   "outputs": [
    {
     "data": {
      "text/plain": [
       "1820"
      ]
     },
     "execution_count": 32,
     "metadata": {},
     "output_type": "execute_result"
    }
   ],
   "source": [
    "new_data=[]\n",
    "for a in x.index:\n",
    "    if x.loc[a,\"City\"]==\"Mandalay\":\n",
    "        new_data.append(x.loc[a,\"Quantity\"])\n",
    "sum(new_data)"
   ]
  },
  {
   "cell_type": "code",
   "execution_count": 55,
   "id": "e1b0eea6-ed84-4e76-8775-0e3fb063c069",
   "metadata": {},
   "outputs": [
    {
     "data": {
      "text/plain": [
       "1859"
      ]
     },
     "execution_count": 55,
     "metadata": {},
     "output_type": "execute_result"
    }
   ],
   "source": [
    "new_data=[]\n",
    "for a in x.index:\n",
    "    if x.loc[a,\"City\"]==\"Yangon\" and x.loc[a,\"Branch\"]==\"A\":\n",
    "        new_data.append(x.loc[a,\"Quantity\"])\n",
    "sum(new_data)"
   ]
  },
  {
   "cell_type": "code",
   "execution_count": 56,
   "id": "661b2948-f209-4479-9f7a-cd710e6af0e0",
   "metadata": {},
   "outputs": [
    {
     "data": {
      "text/plain": [
       "1820"
      ]
     },
     "execution_count": 56,
     "metadata": {},
     "output_type": "execute_result"
    }
   ],
   "source": [
    "mew_data=[]\n",
    "for a in x.index:\n",
    "    if x.loc[a,\"City\"]==\"Mandalay\" and x.loc[a,\"Branch\"]==\"B\":\n",
    "        mew_data.append(x.loc[a,\"Quantity\"])\n",
    "sum(mew_data)"
   ]
  },
  {
   "cell_type": "code",
   "execution_count": 57,
   "id": "1032a910-38d5-4165-9cb2-0d006271d7c3",
   "metadata": {},
   "outputs": [
    {
     "name": "stdout",
     "output_type": "stream",
     "text": [
      "Yangon\n"
     ]
    }
   ],
   "source": [
    "if sum(new_data) > sum(mew_data):\n",
    "    print (\"Yangon\")\n",
    "else :\n",
    "    print(\"Mandalay\")\n"
   ]
  },
  {
   "cell_type": "code",
   "execution_count": 51,
   "id": "b79bfe82-e7e6-497a-a342-c5add173b691",
   "metadata": {},
   "outputs": [],
   "source": [
    "new_data=[]\n",
    "for a in x.index:\n",
    "    new_data.append(x.loc[a,\"Tax\"])"
   ]
  },
  {
   "cell_type": "code",
   "execution_count": 50,
   "id": "fb6834fa-47e4-4998-ace5-ea40a0743ed1",
   "metadata": {},
   "outputs": [],
   "source": [
    "mew_data=[]\n",
    "for a in x.index:\n",
    "    mew_data.append(x.loc[a,\"Unitprice\"])"
   ]
  },
  {
   "cell_type": "code",
   "execution_count": 52,
   "id": "24059f73-c11b-49cd-90a6-a0a2bb37e33c",
   "metadata": {},
   "outputs": [
    {
     "data": {
      "text/plain": [
       "<matplotlib.collections.PathCollection at 0x1cb824ea790>"
      ]
     },
     "execution_count": 52,
     "metadata": {},
     "output_type": "execute_result"
    },
    {
     "data": {
      "image/png": "[encoded data removed]",
      "text/plain": [
       "<Figure size 432x288 with 1 Axes>"
      ]
     },
     "metadata": {
      "needs_background": "light"
     },
     "output_type": "display_data"
    }
   ],
   "source": [
    "plt.scatter(new_data,mew_data)"
   ]
  },
  {
   "cell_type": "code",
   "execution_count": 90,
   "id": "a56c41c2-0f83-45fe-ba08-8a9148d51fc2",
   "metadata": {},
   "outputs": [
    {
     "data": {
      "text/plain": [
       "49.65"
      ]
     },
     "execution_count": 90,
     "metadata": {},
     "output_type": "execute_result"
    }
   ],
   "source": [
    "new_data=[]\n",
    "for a in x.index:\n",
    "    new_data.append(x.loc[a,\"gross_iincome\"])\n",
    "max(new_data)"
   ]
  },
  {
   "cell_type": "code",
   "execution_count": 91,
   "id": "958bbbda-041f-4241-a40f-52419d3efbc1",
   "metadata": {},
   "outputs": [
    {
     "data": {
      "text/plain": [
       "1"
      ]
     },
     "execution_count": 91,
     "metadata": {},
     "output_type": "execute_result"
    }
   ],
   "source": [
    "mew_data=[]\n",
    "for a in x.index:\n",
    "    if x.loc[a,\"gross_iincome\"]==max(new_data):\n",
    "        mew_data.append(x.loc[a,\"Date\"])\n",
    "len(mew_data)\n",
    "        \n",
    "        "
   ]
  },
  {
   "cell_type": "code",
   "execution_count": 94,
   "id": "5c1c26dc-9d70-46fd-9215-b24597954a54",
   "metadata": {},
   "outputs": [
    {
     "data": {
      "text/plain": [
       "1"
      ]
     },
     "execution_count": 94,
     "metadata": {},
     "output_type": "execute_result"
    }
   ],
   "source": [
    "vew_data=[]\n",
    "for a in x.index:\n",
    "    if x.loc[a,\"gross_iincome\"]==49.65:\n",
    "        vew_data.append(x.loc[a,\"Branch\"])\n",
    "len(vew_data)\n"
   ]
  },
  {
   "cell_type": "code",
   "execution_count": 96,
   "id": "42d455ed-3380-4f21-a09b-b3585b1ad2cf",
   "metadata": {},
   "outputs": [
    {
     "data": {
      "text/plain": [
       "1"
      ]
     },
     "execution_count": 96,
     "metadata": {},
     "output_type": "execute_result"
    }
   ],
   "source": [
    "mew_data=[]\n",
    "for a in x.index:\n",
    "    if x.loc[a,\"gross_iincome\"]==49.65:\n",
    "        mew_data.append(x.loc[a,\"InvoiceID\"])\n",
    "len(mew_data)"
   ]
  },
  {
   "cell_type": "code",
   "execution_count": 97,
   "id": "832109d8-56e8-422e-9335-de873ff2141d",
   "metadata": {},
   "outputs": [
    {
     "data": {
      "text/plain": [
       "49.65"
      ]
     },
     "execution_count": 97,
     "metadata": {},
     "output_type": "execute_result"
    }
   ],
   "source": [
    "new_data=[]\n",
    "for a in x.index:\n",
    "    new_data.append(x.loc[a,\"gross_iincome\"])\n",
    "max(new_data)"
   ]
  },
  {
   "cell_type": "code",
   "execution_count": 103,
   "id": "c880616c-a493-42e8-938d-0aa677edd539",
   "metadata": {},
   "outputs": [
    {
     "data": {
      "text/plain": [
       "['Female']"
      ]
     },
     "execution_count": 103,
     "metadata": {},
     "output_type": "execute_result"
    }
   ],
   "source": [
    "vew_data=[]\n",
    "for a in x.index:\n",
    "    if x.loc[a,\"gross_iincome\"]==49.65:\n",
    "        vew_data.append(x.loc[a,\"Gender\"])\n",
    "vew_data"
   ]
  },
  {
   "cell_type": "code",
   "execution_count": 102,
   "id": "c3bdaaf1-827e-4d63-b924-123d49765256",
   "metadata": {},
   "outputs": [
    {
     "data": {
      "text/plain": [
       "['Member']"
      ]
     },
     "execution_count": 102,
     "metadata": {},
     "output_type": "execute_result"
    }
   ],
   "source": [
    "vew_data=[]\n",
    "for a in x.index:\n",
    "    if x.loc[a,\"gross_iincome\"]==49.65:\n",
    "        vew_data.append(x.loc[a,\"Customertype\"])\n",
    "vew_data"
   ]
  },
  {
   "cell_type": "code",
   "execution_count": 106,
   "id": "360cab54-a223-4828-a1ab-17c41ee04681",
   "metadata": {},
   "outputs": [
    {
     "data": {
      "text/plain": [
       "[]"
      ]
     },
     "execution_count": 106,
     "metadata": {},
     "output_type": "execute_result"
    }
   ],
   "source": [
    "vew_data=[]\n",
    "for a in x.index:\n",
    "    if x.loc[a,\"gross_iincome\"]==49.65 and x.loc[a,\"gross_margin_percentage\"]==4.761905:\n",
    "        vew_data.append(x.loc[a,\"Productine\"])\n",
    "vew_data"
   ]
  },
  {
   "cell_type": "code",
   "execution_count": null,
   "id": "2ba80cba-0fd4-4466-91e0-56a0d60897f4",
   "metadata": {},
   "outputs": [],
   "source": []
  }
 ],
 "metadata": {
  "kernelspec": {
   "display_name": "Python 3",
   "language": "python",
   "name": "python3"
  },
  "language_info": {
   "codemirror_mode": {
    "name": "ipython",
    "version": 3
   },
   "file_extension": ".py",
   "mimetype": "text/x-python",
   "name": "python",
   "nbconvert_exporter": "python",
   "pygments_lexer": "ipython3",
   "version": "3.8.8"
  }
 },
 "nbformat": 4,
 "nbformat_minor": 5
}
