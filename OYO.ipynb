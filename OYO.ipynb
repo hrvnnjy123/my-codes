{
 "cells": [
  {
   "cell_type": "code",
   "execution_count": 13,
   "id": "9cf3a5e2-613d-4c48-826c-ad0048436c4b",
   "metadata": {},
   "outputs": [],
   "source": [
    "import pandas as pd\n",
    "import matplotlib.pyplot as plt"
   ]
  },
  {
   "cell_type": "code",
   "execution_count": 2,
   "id": "de1d1ff0-6bc3-4887-badd-92414e0027bb",
   "metadata": {},
   "outputs": [],
   "source": [
    "df=pd.read_excel(\"OYO.xlsx\")"
   ]
  },
  {
   "cell_type": "code",
   "execution_count": 3,
   "id": "65c2af84-3ef5-4e09-a3ae-5474c6f87139",
   "metadata": {},
   "outputs": [
    {
     "data": {
      "text/html": [
       "<div>\n",
       "<style scoped>\n",
       "    .dataframe tbody tr th:only-of-type {\n",
       "        vertical-align: middle;\n",
       "    }\n",
       "\n",
       "    .dataframe tbody tr th {\n",
       "        vertical-align: top;\n",
       "    }\n",
       "\n",
       "    .dataframe thead th {\n",
       "        text-align: right;\n",
       "    }\n",
       "</style>\n",
       "<table border=\"1\" class=\"dataframe\">\n",
       "  <thead>\n",
       "    <tr style=\"text-align: right;\">\n",
       "      <th></th>\n",
       "      <th>Date</th>\n",
       "      <th>Open</th>\n",
       "    </tr>\n",
       "  </thead>\n",
       "  <tbody>\n",
       "    <tr>\n",
       "      <th>0</th>\n",
       "      <td>1</td>\n",
       "      <td>1320</td>\n",
       "    </tr>\n",
       "    <tr>\n",
       "      <th>1</th>\n",
       "      <td>2</td>\n",
       "      <td>1339</td>\n",
       "    </tr>\n",
       "    <tr>\n",
       "      <th>2</th>\n",
       "      <td>3</td>\n",
       "      <td>1329</td>\n",
       "    </tr>\n",
       "    <tr>\n",
       "      <th>3</th>\n",
       "      <td>4</td>\n",
       "      <td>1345</td>\n",
       "    </tr>\n",
       "    <tr>\n",
       "      <th>4</th>\n",
       "      <td>5</td>\n",
       "      <td>1325</td>\n",
       "    </tr>\n",
       "    <tr>\n",
       "      <th>...</th>\n",
       "      <td>...</td>\n",
       "      <td>...</td>\n",
       "    </tr>\n",
       "    <tr>\n",
       "      <th>240</th>\n",
       "      <td>241</td>\n",
       "      <td>2050</td>\n",
       "    </tr>\n",
       "    <tr>\n",
       "      <th>241</th>\n",
       "      <td>242</td>\n",
       "      <td>2071</td>\n",
       "    </tr>\n",
       "    <tr>\n",
       "      <th>242</th>\n",
       "      <td>243</td>\n",
       "      <td>2085</td>\n",
       "    </tr>\n",
       "    <tr>\n",
       "      <th>243</th>\n",
       "      <td>244</td>\n",
       "      <td>2059</td>\n",
       "    </tr>\n",
       "    <tr>\n",
       "      <th>244</th>\n",
       "      <td>245</td>\n",
       "      <td>2044</td>\n",
       "    </tr>\n",
       "  </tbody>\n",
       "</table>\n",
       "<p>245 rows × 2 columns</p>\n",
       "</div>"
      ],
      "text/plain": [
       "     Date  Open\n",
       "0       1  1320\n",
       "1       2  1339\n",
       "2       3  1329\n",
       "3       4  1345\n",
       "4       5  1325\n",
       "..    ...   ...\n",
       "240   241  2050\n",
       "241   242  2071\n",
       "242   243  2085\n",
       "243   244  2059\n",
       "244   245  2044\n",
       "\n",
       "[245 rows x 2 columns]"
      ]
     },
     "execution_count": 3,
     "metadata": {},
     "output_type": "execute_result"
    }
   ],
   "source": [
    "df"
   ]
  },
  {
   "cell_type": "code",
   "execution_count": 5,
   "id": "803621e7-b719-4720-b542-ec2b9e4655e1",
   "metadata": {},
   "outputs": [],
   "source": [
    "x=df.iloc[:,:-1].values\n",
    "y=df.iloc[:,-1].values"
   ]
  },
  {
   "cell_type": "code",
   "execution_count": 6,
   "id": "6a82491e-ae62-49a1-960a-26fd09a94a7c",
   "metadata": {},
   "outputs": [],
   "source": [
    "from sklearn.linear_model import LinearRegression"
   ]
  },
  {
   "cell_type": "code",
   "execution_count": 7,
   "id": "95795a06-fac9-45c3-98ab-6e449c7f7071",
   "metadata": {},
   "outputs": [],
   "source": [
    "regressor=LinearRegression()"
   ]
  },
  {
   "cell_type": "code",
   "execution_count": 8,
   "id": "0f80e50b-5071-4dae-b6cc-e873f9c0e56f",
   "metadata": {},
   "outputs": [
    {
     "data": {
      "text/plain": [
       "LinearRegression()"
      ]
     },
     "execution_count": 8,
     "metadata": {},
     "output_type": "execute_result"
    }
   ],
   "source": [
    "regressor.fit(x,y)"
   ]
  },
  {
   "cell_type": "code",
   "execution_count": 9,
   "id": "e61ae84b-dd44-4aed-8d05-06331bfd0386",
   "metadata": {},
   "outputs": [],
   "source": [
    "y_pred=regressor.predict(x)"
   ]
  },
  {
   "cell_type": "code",
   "execution_count": 10,
   "id": "679fd508-4404-4959-a33b-73b088740c84",
   "metadata": {},
   "outputs": [
    {
     "data": {
      "text/plain": [
       "array([1083.44838228, 1086.69358624, 1089.9387902 , 1093.18399416,\n",
       "       1096.42919812, 1099.67440208, 1102.91960604, 1106.16480999,\n",
       "       1109.41001395, 1112.65521791, 1115.90042187, 1119.14562583,\n",
       "       1122.39082979, 1125.63603375, 1128.88123771, 1132.12644167,\n",
       "       1135.37164563, 1138.61684959, 1141.86205355, 1145.10725751,\n",
       "       1148.35246146, 1151.59766542, 1154.84286938, 1158.08807334,\n",
       "       1161.3332773 , 1164.57848126, 1167.82368522, 1171.06888918,\n",
       "       1174.31409314, 1177.5592971 , 1180.80450106, 1184.04970502,\n",
       "       1187.29490898, 1190.54011293, 1193.78531689, 1197.03052085,\n",
       "       1200.27572481, 1203.52092877, 1206.76613273, 1210.01133669,\n",
       "       1213.25654065, 1216.50174461, 1219.74694857, 1222.99215253,\n",
       "       1226.23735649, 1229.48256045, 1232.7277644 , 1235.97296836,\n",
       "       1239.21817232, 1242.46337628, 1245.70858024, 1248.9537842 ,\n",
       "       1252.19898816, 1255.44419212, 1258.68939608, 1261.93460004,\n",
       "       1265.179804  , 1268.42500796, 1271.67021192, 1274.91541587,\n",
       "       1278.16061983, 1281.40582379, 1284.65102775, 1287.89623171,\n",
       "       1291.14143567, 1294.38663963, 1297.63184359, 1300.87704755,\n",
       "       1304.12225151, 1307.36745547, 1310.61265943, 1313.85786339,\n",
       "       1317.10306734, 1320.3482713 , 1323.59347526, 1326.83867922,\n",
       "       1330.08388318, 1333.32908714, 1336.5742911 , 1339.81949506,\n",
       "       1343.06469902, 1346.30990298, 1349.55510694, 1352.8003109 ,\n",
       "       1356.04551486, 1359.29071881, 1362.53592277, 1365.78112673,\n",
       "       1369.02633069, 1372.27153465, 1375.51673861, 1378.76194257,\n",
       "       1382.00714653, 1385.25235049, 1388.49755445, 1391.74275841,\n",
       "       1394.98796237, 1398.23316633, 1401.47837028, 1404.72357424,\n",
       "       1407.9687782 , 1411.21398216, 1414.45918612, 1417.70439008,\n",
       "       1420.94959404, 1424.194798  , 1427.44000196, 1430.68520592,\n",
       "       1433.93040988, 1437.17561384, 1440.4208178 , 1443.66602175,\n",
       "       1446.91122571, 1450.15642967, 1453.40163363, 1456.64683759,\n",
       "       1459.89204155, 1463.13724551, 1466.38244947, 1469.62765343,\n",
       "       1472.87285739, 1476.11806135, 1479.36326531, 1482.60846927,\n",
       "       1485.85367322, 1489.09887718, 1492.34408114, 1495.5892851 ,\n",
       "       1498.83448906, 1502.07969302, 1505.32489698, 1508.57010094,\n",
       "       1511.8153049 , 1515.06050886, 1518.30571282, 1521.55091678,\n",
       "       1524.79612074, 1528.04132469, 1531.28652865, 1534.53173261,\n",
       "       1537.77693657, 1541.02214053, 1544.26734449, 1547.51254845,\n",
       "       1550.75775241, 1554.00295637, 1557.24816033, 1560.49336429,\n",
       "       1563.73856825, 1566.98377221, 1570.22897616, 1573.47418012,\n",
       "       1576.71938408, 1579.96458804, 1583.209792  , 1586.45499596,\n",
       "       1589.70019992, 1592.94540388, 1596.19060784, 1599.4358118 ,\n",
       "       1602.68101576, 1605.92621972, 1609.17142368, 1612.41662763,\n",
       "       1615.66183159, 1618.90703555, 1622.15223951, 1625.39744347,\n",
       "       1628.64264743, 1631.88785139, 1635.13305535, 1638.37825931,\n",
       "       1641.62346327, 1644.86866723, 1648.11387119, 1651.35907515,\n",
       "       1654.6042791 , 1657.84948306, 1661.09468702, 1664.33989098,\n",
       "       1667.58509494, 1670.8302989 , 1674.07550286, 1677.32070682,\n",
       "       1680.56591078, 1683.81111474, 1687.0563187 , 1690.30152266,\n",
       "       1693.54672662, 1696.79193057, 1700.03713453, 1703.28233849,\n",
       "       1706.52754245, 1709.77274641, 1713.01795037, 1716.26315433,\n",
       "       1719.50835829, 1722.75356225, 1725.99876621, 1729.24397017,\n",
       "       1732.48917413, 1735.73437809, 1738.97958204, 1742.224786  ,\n",
       "       1745.46998996, 1748.71519392, 1751.96039788, 1755.20560184,\n",
       "       1758.4508058 , 1761.69600976, 1764.94121372, 1768.18641768,\n",
       "       1771.43162164, 1774.6768256 , 1777.92202956, 1781.16723351,\n",
       "       1784.41243747, 1787.65764143, 1790.90284539, 1794.14804935,\n",
       "       1797.39325331, 1800.63845727, 1803.88366123, 1807.12886519,\n",
       "       1810.37406915, 1813.61927311, 1816.86447707, 1820.10968103,\n",
       "       1823.35488498, 1826.60008894, 1829.8452929 , 1833.09049686,\n",
       "       1836.33570082, 1839.58090478, 1842.82610874, 1846.0713127 ,\n",
       "       1849.31651666, 1852.56172062, 1855.80692458, 1859.05212854,\n",
       "       1862.2973325 , 1865.54253645, 1868.78774041, 1872.03294437,\n",
       "       1875.27814833])"
      ]
     },
     "execution_count": 10,
     "metadata": {},
     "output_type": "execute_result"
    }
   ],
   "source": [
    "y_pred"
   ]
  },
  {
   "cell_type": "code",
   "execution_count": 14,
   "id": "87b98647-856d-4660-a57d-2f69ba77a1c3",
   "metadata": {},
   "outputs": [
    {
     "data": {
      "text/plain": [
       "<matplotlib.collections.PathCollection at 0x122296e3d60>"
      ]
     },
     "execution_count": 14,
     "metadata": {},
     "output_type": "execute_result"
    },
    {
     "data": {
      "image/png": "[encoded data removed]",
      "text/plain": [
       "<Figure size 432x288 with 1 Axes>"
      ]
     },
     "metadata": {
      "needs_background": "light"
     },
     "output_type": "display_data"
    }
   ],
   "source": [
    "plt.plot(x,y_pred)\n",
    "plt.scatter(x,y)"
   ]
  },
  {
   "cell_type": "code",
   "execution_count": 15,
   "id": "9a05ee5d-6685-4088-97a8-18cc78ac1f86",
   "metadata": {},
   "outputs": [],
   "source": [
    "from sklearn.linear_model import LinearRegression\n",
    "from sklearn.preprocessing import PolynomialFeatures"
   ]
  },
  {
   "cell_type": "code",
   "execution_count": 16,
   "id": "f3eac0bb-8f28-40cb-a0f6-7b3022a37169",
   "metadata": {},
   "outputs": [],
   "source": [
    "poly_reg=PolynomialFeatures(degree=4)"
   ]
  },
  {
   "cell_type": "code",
   "execution_count": 17,
   "id": "76b860a8-e952-4625-939f-d1f62eac0a4c",
   "metadata": {},
   "outputs": [],
   "source": [
    "x_poly=poly_reg.fit_transform(x)"
   ]
  },
  {
   "cell_type": "code",
   "execution_count": 18,
   "id": "1bc66762-c6ac-484d-a4ca-7764a9deab8c",
   "metadata": {},
   "outputs": [],
   "source": [
    "regressor=LinearRegression()"
   ]
  },
  {
   "cell_type": "code",
   "execution_count": 19,
   "id": "a80d4d45-5459-468c-834d-6e9596dedad2",
   "metadata": {},
   "outputs": [
    {
     "data": {
      "text/plain": [
       "LinearRegression()"
      ]
     },
     "execution_count": 19,
     "metadata": {},
     "output_type": "execute_result"
    }
   ],
   "source": [
    "regressor.fit(x_poly,y)"
   ]
  },
  {
   "cell_type": "code",
   "execution_count": 20,
   "id": "9a3b5550-8385-4f68-aac4-87dc67973269",
   "metadata": {},
   "outputs": [],
   "source": [
    "y_pred=regressor.predict(x_poly)"
   ]
  },
  {
   "cell_type": "code",
   "execution_count": 22,
   "id": "fcca3b89-9a64-4df3-9d30-49c9a6e6f7c0",
   "metadata": {},
   "outputs": [
    {
     "data": {
      "text/plain": [
       "<matplotlib.collections.PathCollection at 0x1222983dd30>"
      ]
     },
     "execution_count": 22,
     "metadata": {},
     "output_type": "execute_result"
    },
    {
     "data": {
      "image/png": "[encoded data removed]",
      "text/plain": [
       "<Figure size 432x288 with 1 Axes>"
      ]
     },
     "metadata": {
      "needs_background": "light"
     },
     "output_type": "display_data"
    }
   ],
   "source": [
    "plt.plot(x,y_pred,color='red')\n",
    "plt.scatter(x,y,color='blue')"
   ]
  },
  {
   "cell_type": "code",
   "execution_count": 23,
   "id": "b907d700-5ea6-4519-8401-13aa60573aa9",
   "metadata": {},
   "outputs": [],
   "source": [
    "from sklearn.model_selection import train_test_split"
   ]
  },
  {
   "cell_type": "code",
   "execution_count": 24,
   "id": "06904c2f-af58-4391-826d-857ea436845c",
   "metadata": {},
   "outputs": [],
   "source": [
    "x_train,x_test,y_train,y_test=train_test_split(x,y,test_size=0.2,random_state=1)"
   ]
  },
  {
   "cell_type": "code",
   "execution_count": 25,
   "id": "c515f27b-c082-4d7d-ac3d-5c64f738048e",
   "metadata": {},
   "outputs": [
    {
     "data": {
      "text/plain": [
       "LinearRegression()"
      ]
     },
     "execution_count": 25,
     "metadata": {},
     "output_type": "execute_result"
    }
   ],
   "source": [
    "from sklearn.linear_model import LinearRegression\n",
    "regressor=LinearRegression()\n",
    "regressor.fit(x_train,y_train)\n"
   ]
  },
  {
   "cell_type": "code",
   "execution_count": 26,
   "id": "cf958f5f-74b6-4943-9ae0-745d59ba17b1",
   "metadata": {},
   "outputs": [],
   "source": [
    "y_pred=regressor.predict(x_test)"
   ]
  },
  {
   "cell_type": "code",
   "execution_count": 27,
   "id": "b0fe2d27-6663-4ba6-a7e7-190fec346fe7",
   "metadata": {},
   "outputs": [
    {
     "data": {
      "text/plain": [
       "[<matplotlib.lines.Line2D at 0x122298a8130>]"
      ]
     },
     "execution_count": 27,
     "metadata": {},
     "output_type": "execute_result"
    },
    {
     "data": {
      "image/png": "[encoded data removed]",
      "text/plain": [
       "<Figure size 432x288 with 1 Axes>"
      ]
     },
     "metadata": {
      "needs_background": "light"
     },
     "output_type": "display_data"
    }
   ],
   "source": [
    "plt.scatter(x_test,y_test,color='green')\n",
    "plt.scatter(x_train,y_train,color='red')\n",
    "plt.plot(x_test,y_pred,color='blue')"
   ]
  },
  {
   "cell_type": "code",
   "execution_count": null,
   "id": "511ef18c-325c-4f4e-8268-433a0582e830",
   "metadata": {},
   "outputs": [],
   "source": []
  }
 ],
 "metadata": {
  "kernelspec": {
   "display_name": "Python 3",
   "language": "python",
   "name": "python3"
  },
  "language_info": {
   "codemirror_mode": {
    "name": "ipython",
    "version": 3
   },
   "file_extension": ".py",
   "mimetype": "text/x-python",
   "name": "python",
   "nbconvert_exporter": "python",
   "pygments_lexer": "ipython3",
   "version": "3.8.8"
  }
 },
 "nbformat": 4,
 "nbformat_minor": 5
}
