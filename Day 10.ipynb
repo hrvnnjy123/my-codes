{
 "cells": [
  {
   "cell_type": "code",
   "execution_count": 4,
   "id": "9d8e56e2-a608-4baf-9b08-ae77038cc516",
   "metadata": {},
   "outputs": [
    {
     "name": "stdin",
     "output_type": "stream",
     "text": [
      "Enter the amount 300000\n"
     ]
    },
    {
     "name": "stdout",
     "output_type": "stream",
     "text": [
      "2500.0\n"
     ]
    }
   ],
   "source": [
    "x=int(input(\"Enter the amount\"))\n",
    "if x<= 250000:\n",
    "    tax=0\n",
    "if (x<=500000) and (x>250000):\n",
    "    tax=(x-250000)*5/100\n",
    "if (x<=750000) and (x>500000):\n",
    "    tax=((x-500000)*10/100)+12500\n",
    "if (x<=1000000) and (x>750000):\n",
    "    tax=((x-750000)*15/100)+37500\n",
    "if (x<=1250000) and (x>1000000):\n",
    "    tax=((x-1000000)*20/100)+75000\n",
    "if (x<=1500000) and (x>1250000):\n",
    "    tax=((x-1250000)*25/100)+125000\n",
    "if (x>1500000):\n",
    "    tax=((x-1500000)*30/100)+187500\n",
    "print(tax)"
   ]
  },
  {
   "cell_type": "code",
   "execution_count": 12,
   "id": "4c95cc92-31ab-4391-a5e1-24b15031fdf5",
   "metadata": {},
   "outputs": [
    {
     "name": "stdin",
     "output_type": "stream",
     "text": [
      "Enter the amount 500000\n"
     ]
    },
    {
     "name": "stdout",
     "output_type": "stream",
     "text": [
      "12500.0\n"
     ]
    }
   ],
   "source": [
    "x=int(input(\"Enter the amount\"))\n",
    "def shravan (a,b,c,d):\n",
    "    tax=((a-b)*c/100)+d\n",
    "    return tax\n",
    "if x<= 250000:\n",
    "    tax=0\n",
    "if (x<=500000) and (x>250000):\n",
    "    tax=shravan(x,250000,5,0)\n",
    "if (x<=750000) and (x>500000):\n",
    "    tax=shravan(x,500000,10,12500)\n",
    "if (x<=1000000) and (x>750000):\n",
    "    tax=shravan(x,750000,15,37500)\n",
    "if (x<=1250000) and (x>1000000):\n",
    "    tax=shravan(x,1000000,20,75000)\n",
    "if (x<=1500000) and (x>1250000):\n",
    "    tax=shravan(x,1250000,25,125000)\n",
    "if (x>1500000):\n",
    "    tax=shravan(x,1500000,30,187500)\n",
    "print(tax)"
   ]
  },
  {
   "cell_type": "code",
   "execution_count": null,
   "id": "6643e4fc-b79b-413c-a7e9-afd808a216b4",
   "metadata": {},
   "outputs": [],
   "source": []
  }
 ],
 "metadata": {
  "kernelspec": {
   "display_name": "Python 3",
   "language": "python",
   "name": "python3"
  },
  "language_info": {
   "codemirror_mode": {
    "name": "ipython",
    "version": 3
   },
   "file_extension": ".py",
   "mimetype": "text/x-python",
   "name": "python",
   "nbconvert_exporter": "python",
   "pygments_lexer": "ipython3",
   "version": "3.8.8"
  }
 },
 "nbformat": 4,
 "nbformat_minor": 5
}
