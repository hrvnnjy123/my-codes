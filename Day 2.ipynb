{
 "cells": [
  {
   "cell_type": "code",
   "execution_count": 1,
   "id": "59d57e5a-91b0-41dd-b5af-55c748836fff",
   "metadata": {},
   "outputs": [
    {
     "name": "stdin",
     "output_type": "stream",
     "text": [
      " 40\n"
     ]
    }
   ],
   "source": [
    "x=input()"
   ]
  },
  {
   "cell_type": "code",
   "execution_count": 2,
   "id": "c81e5edc-6ad1-410c-81b1-fdff5d978213",
   "metadata": {},
   "outputs": [
    {
     "name": "stdout",
     "output_type": "stream",
     "text": [
      "40\n"
     ]
    }
   ],
   "source": [
    "print(x)"
   ]
  },
  {
   "cell_type": "code",
   "execution_count": 3,
   "id": "de6bfd40-6fc5-4e7c-b96b-60da4fa08f5e",
   "metadata": {},
   "outputs": [
    {
     "name": "stdin",
     "output_type": "stream",
     "text": [
      "Enter Your Name Shravan Sanjay\n"
     ]
    }
   ],
   "source": [
    "x=input(\"Enter Your Name\")"
   ]
  },
  {
   "cell_type": "code",
   "execution_count": 4,
   "id": "1ced28d9-5a31-4589-aeb0-5422b870f374",
   "metadata": {},
   "outputs": [
    {
     "name": "stdin",
     "output_type": "stream",
     "text": [
      "Enter Your Name Shravan Sanjay\n",
      "Date of Birth 25-09-2002\n",
      "Enter Your Phone Number 8137827188\n"
     ]
    }
   ],
   "source": [
    "x=input(\"Enter Your Name\")\n",
    "y=input(\"Date of Birth\")\n",
    "z=input(\"Enter Your Phone Number\")"
   ]
  },
  {
   "cell_type": "code",
   "execution_count": 5,
   "id": "f82eb5cb-2105-4676-9ea9-92b460c9922d",
   "metadata": {},
   "outputs": [
    {
     "name": "stdin",
     "output_type": "stream",
     "text": [
      "Enter First Number 10\n",
      "Enter Second Number 10\n"
     ]
    }
   ],
   "source": [
    "x=input(\"Enter First Number\")\n",
    "y=input(\"Enter Second Number\")"
   ]
  },
  {
   "cell_type": "code",
   "execution_count": 6,
   "id": "1ceab5bc-4f7e-4e07-b908-f1606ebf6b63",
   "metadata": {},
   "outputs": [
    {
     "data": {
      "text/plain": [
       "'10'"
      ]
     },
     "execution_count": 6,
     "metadata": {},
     "output_type": "execute_result"
    }
   ],
   "source": [
    "x"
   ]
  },
  {
   "cell_type": "code",
   "execution_count": 7,
   "id": "e81d0bf4-cdc5-4a64-b311-1c4aececa938",
   "metadata": {},
   "outputs": [
    {
     "data": {
      "text/plain": [
       "'10'"
      ]
     },
     "execution_count": 7,
     "metadata": {},
     "output_type": "execute_result"
    }
   ],
   "source": [
    "y"
   ]
  },
  {
   "cell_type": "code",
   "execution_count": 8,
   "id": "8c4dacc2-a7f7-4d37-9c40-087e5fb6ac87",
   "metadata": {},
   "outputs": [
    {
     "name": "stdout",
     "output_type": "stream",
     "text": [
      "20\n"
     ]
    }
   ],
   "source": [
    "z=int(x)+int(y)\n",
    "print(z)"
   ]
  },
  {
   "cell_type": "code",
   "execution_count": 9,
   "id": "21f9a9d6-1f86-43c0-afac-73954e78d5b8",
   "metadata": {},
   "outputs": [
    {
     "data": {
      "text/plain": [
       "(str, str)"
      ]
     },
     "execution_count": 9,
     "metadata": {},
     "output_type": "execute_result"
    }
   ],
   "source": [
    "type(x),type(y)"
   ]
  },
  {
   "cell_type": "code",
   "execution_count": 10,
   "id": "5090ce4a-a8b6-487b-8584-ea6c422d8c2f",
   "metadata": {},
   "outputs": [
    {
     "name": "stdout",
     "output_type": "stream",
     "text": [
      "jithub.com\n"
     ]
    }
   ],
   "source": [
    "print(\"jithub.com\")"
   ]
  },
  {
   "cell_type": "code",
   "execution_count": 11,
   "id": "9edc9e08-b7e2-4a51-b1a8-174bc379bfc1",
   "metadata": {},
   "outputs": [],
   "source": [
    "x=\"India is my country\""
   ]
  },
  {
   "cell_type": "code",
   "execution_count": 12,
   "id": "ff3faabe-e7ba-4551-a055-a9a839ab40b4",
   "metadata": {},
   "outputs": [
    {
     "data": {
      "text/plain": [
       "'I'"
      ]
     },
     "execution_count": 12,
     "metadata": {},
     "output_type": "execute_result"
    }
   ],
   "source": [
    "x[0]"
   ]
  },
  {
   "cell_type": "code",
   "execution_count": 13,
   "id": "68a79073-0ecc-4051-9f68-7f7903831fe1",
   "metadata": {},
   "outputs": [
    {
     "data": {
      "text/plain": [
       "'n'"
      ]
     },
     "execution_count": 13,
     "metadata": {},
     "output_type": "execute_result"
    }
   ],
   "source": [
    "x[1]"
   ]
  },
  {
   "cell_type": "code",
   "execution_count": 14,
   "id": "70bf136d-64c2-4713-8f3a-f8bcbb30d7f2",
   "metadata": {},
   "outputs": [
    {
     "data": {
      "text/plain": [
       "'d'"
      ]
     },
     "execution_count": 14,
     "metadata": {},
     "output_type": "execute_result"
    }
   ],
   "source": [
    "x[2]"
   ]
  },
  {
   "cell_type": "code",
   "execution_count": 15,
   "id": "9c1a4c46-0be2-400e-a747-79e1a503c2c7",
   "metadata": {},
   "outputs": [
    {
     "data": {
      "text/plain": [
       "'i'"
      ]
     },
     "execution_count": 15,
     "metadata": {},
     "output_type": "execute_result"
    }
   ],
   "source": [
    "x[3]"
   ]
  },
  {
   "cell_type": "code",
   "execution_count": 16,
   "id": "63391b9d-07f8-44b1-8431-99df22645788",
   "metadata": {},
   "outputs": [
    {
     "data": {
      "text/plain": [
       "'a'"
      ]
     },
     "execution_count": 16,
     "metadata": {},
     "output_type": "execute_result"
    }
   ],
   "source": [
    "x[4]"
   ]
  },
  {
   "cell_type": "code",
   "execution_count": 17,
   "id": "98e46bf6-21c7-4de0-bd7b-0512393d954f",
   "metadata": {},
   "outputs": [
    {
     "data": {
      "text/plain": [
       "'c'"
      ]
     },
     "execution_count": 17,
     "metadata": {},
     "output_type": "execute_result"
    }
   ],
   "source": [
    "x[12]"
   ]
  },
  {
   "cell_type": "code",
   "execution_count": 18,
   "id": "50f20091-8311-411b-b579-6100d4e1226c",
   "metadata": {},
   "outputs": [
    {
     "data": {
      "text/plain": [
       "'y'"
      ]
     },
     "execution_count": 18,
     "metadata": {},
     "output_type": "execute_result"
    }
   ],
   "source": [
    "x[-1]"
   ]
  },
  {
   "cell_type": "code",
   "execution_count": 19,
   "id": "cad3b4f3-c076-4b2b-bf36-e9c6af8f4bd2",
   "metadata": {},
   "outputs": [
    {
     "data": {
      "text/plain": [
       "'r'"
      ]
     },
     "execution_count": 19,
     "metadata": {},
     "output_type": "execute_result"
    }
   ],
   "source": [
    "x[-2]"
   ]
  },
  {
   "cell_type": "code",
   "execution_count": 20,
   "id": "d1b310b7-bd63-4cf3-8cc9-cda86f87613f",
   "metadata": {},
   "outputs": [
    {
     "data": {
      "text/plain": [
       "'t'"
      ]
     },
     "execution_count": 20,
     "metadata": {},
     "output_type": "execute_result"
    }
   ],
   "source": [
    "x[-3]"
   ]
  },
  {
   "cell_type": "code",
   "execution_count": 21,
   "id": "6303b002-04cb-433e-9f3e-b60d1d8d7eb7",
   "metadata": {},
   "outputs": [
    {
     "data": {
      "text/plain": [
       "'ndia'"
      ]
     },
     "execution_count": 21,
     "metadata": {},
     "output_type": "execute_result"
    }
   ],
   "source": [
    "x[1:5]"
   ]
  },
  {
   "cell_type": "code",
   "execution_count": 22,
   "id": "33f8d9b0-c0e4-4730-bf5a-85f90cb04538",
   "metadata": {},
   "outputs": [
    {
     "data": {
      "text/plain": [
       "'I'"
      ]
     },
     "execution_count": 22,
     "metadata": {},
     "output_type": "execute_result"
    }
   ],
   "source": [
    "x[0]"
   ]
  },
  {
   "cell_type": "code",
   "execution_count": 23,
   "id": "b3a9f9f9-8278-4acc-9f84-e419c02e97b9",
   "metadata": {},
   "outputs": [
    {
     "data": {
      "text/plain": [
       "'a'"
      ]
     },
     "execution_count": 23,
     "metadata": {},
     "output_type": "execute_result"
    }
   ],
   "source": [
    "x[4]"
   ]
  },
  {
   "cell_type": "code",
   "execution_count": 24,
   "id": "e759df61-9c57-43d5-a87e-3330574c3a05",
   "metadata": {},
   "outputs": [
    {
     "data": {
      "text/plain": [
       "' '"
      ]
     },
     "execution_count": 24,
     "metadata": {},
     "output_type": "execute_result"
    }
   ],
   "source": [
    "x[5]"
   ]
  },
  {
   "cell_type": "code",
   "execution_count": 25,
   "id": "7f23c29e-e21c-49c9-9e5b-072b700b0496",
   "metadata": {},
   "outputs": [
    {
     "data": {
      "text/plain": [
       "'India'"
      ]
     },
     "execution_count": 25,
     "metadata": {},
     "output_type": "execute_result"
    }
   ],
   "source": [
    "x[0:5]"
   ]
  },
  {
   "cell_type": "code",
   "execution_count": 26,
   "id": "ace7eed3-832f-4177-a994-ff637d7aebb0",
   "metadata": {},
   "outputs": [
    {
     "name": "stdin",
     "output_type": "stream",
     "text": [
      "Enter P: 5000\n",
      "Enter N: 3\n",
      "Enter R 5\n"
     ]
    }
   ],
   "source": [
    "P=input(\"Enter P:\")\n",
    "N=input(\"Enter N:\")\n",
    "R=input(\"Enter R\")\n"
   ]
  },
  {
   "cell_type": "code",
   "execution_count": 41,
   "id": "89560e8c-b2c7-4c8d-ae91-8be308facd54",
   "metadata": {},
   "outputs": [],
   "source": [
    "pnr=int(P)*int(N)*int(R)"
   ]
  },
  {
   "cell_type": "code",
   "execution_count": 42,
   "id": "71efc2ae-76ea-4d1c-9f13-8c67610021f6",
   "metadata": {},
   "outputs": [
    {
     "name": "stdout",
     "output_type": "stream",
     "text": [
      "75000\n"
     ]
    }
   ],
   "source": [
    "print(pnr)"
   ]
  },
  {
   "cell_type": "code",
   "execution_count": 45,
   "id": "2d708b71-a134-413d-927f-af440e469063",
   "metadata": {},
   "outputs": [
    {
     "name": "stdout",
     "output_type": "stream",
     "text": [
      "5750.0\n"
     ]
    }
   ],
   "source": [
    "total=int(P)+pnr/100\n",
    "print(total)"
   ]
  },
  {
   "cell_type": "code",
   "execution_count": 46,
   "id": "5abe2084-0679-44da-a5cb-efefa71bbcaf",
   "metadata": {},
   "outputs": [
    {
     "data": {
      "text/plain": [
       "float"
      ]
     },
     "execution_count": 46,
     "metadata": {},
     "output_type": "execute_result"
    }
   ],
   "source": [
    "type(total)"
   ]
  },
  {
   "cell_type": "code",
   "execution_count": null,
   "id": "8f4d887d-e3d8-4d91-8b5f-b1fd66fdb5c5",
   "metadata": {},
   "outputs": [],
   "source": []
  }
 ],
 "metadata": {
  "kernelspec": {
   "display_name": "Python 3",
   "language": "python",
   "name": "python3"
  },
  "language_info": {
   "codemirror_mode": {
    "name": "ipython",
    "version": 3
   },
   "file_extension": ".py",
   "mimetype": "text/x-python",
   "name": "python",
   "nbconvert_exporter": "python",
   "pygments_lexer": "ipython3",
   "version": "3.8.8"
  }
 },
 "nbformat": 4,
 "nbformat_minor": 5
}
